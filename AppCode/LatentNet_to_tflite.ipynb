{
 "cells": [
  {
   "cell_type": "code",
   "execution_count": 1,
   "metadata": {
    "_cell_guid": "b1076dfc-b9ad-4769-8c92-a6c4dae69d19",
    "_uuid": "8f2839f25d086af736a60e9eeb907d3b93b6e0e5",
    "execution": {
     "iopub.execute_input": "2021-03-31T13:03:45.191269Z",
     "iopub.status.busy": "2021-03-31T13:03:45.190745Z",
     "iopub.status.idle": "2021-03-31T13:04:00.992520Z",
     "shell.execute_reply": "2021-03-31T13:04:00.991829Z"
    },
    "papermill": {
     "duration": 15.827514,
     "end_time": "2021-03-31T13:04:00.992714",
     "exception": false,
     "start_time": "2021-03-31T13:03:45.165200",
     "status": "completed"
    },
    "tags": []
   },
   "outputs": [
    {
     "name": "stdout",
     "output_type": "stream",
     "text": [
      "Collecting mitdeeplearning\r\n",
      "  Downloading mitdeeplearning-0.2.0.tar.gz (2.1 MB)\r\n",
      "\u001b[K     |████████████████████████████████| 2.1 MB 2.9 MB/s \r\n",
      "\u001b[?25hRequirement already satisfied: numpy in /opt/conda/lib/python3.7/site-packages (from mitdeeplearning) (1.19.5)\r\n",
      "Requirement already satisfied: regex in /opt/conda/lib/python3.7/site-packages (from mitdeeplearning) (2020.11.13)\r\n",
      "Requirement already satisfied: tqdm in /opt/conda/lib/python3.7/site-packages (from mitdeeplearning) (4.55.1)\r\n",
      "Requirement already satisfied: gym in /opt/conda/lib/python3.7/site-packages (from mitdeeplearning) (0.18.0)\r\n",
      "Requirement already satisfied: Pillow<=7.2.0 in /opt/conda/lib/python3.7/site-packages (from gym->mitdeeplearning) (7.2.0)\r\n",
      "Requirement already satisfied: cloudpickle<1.7.0,>=1.2.0 in /opt/conda/lib/python3.7/site-packages (from gym->mitdeeplearning) (1.6.0)\r\n",
      "Requirement already satisfied: pyglet<=1.5.0,>=1.4.0 in /opt/conda/lib/python3.7/site-packages (from gym->mitdeeplearning) (1.5.0)\r\n",
      "Requirement already satisfied: scipy in /opt/conda/lib/python3.7/site-packages (from gym->mitdeeplearning) (1.5.4)\r\n",
      "Requirement already satisfied: future in /opt/conda/lib/python3.7/site-packages (from pyglet<=1.5.0,>=1.4.0->gym->mitdeeplearning) (0.18.2)\r\n",
      "Building wheels for collected packages: mitdeeplearning\r\n",
      "  Building wheel for mitdeeplearning (setup.py) ... \u001b[?25l-\b \b\\\b \b|\b \b/\b \bdone\r\n",
      "\u001b[?25h  Created wheel for mitdeeplearning: filename=mitdeeplearning-0.2.0-py3-none-any.whl size=2115443 sha256=54150b77bef476faaf3952d0760a18824c6ddee81379f0d6e7b5e80a421b4450\r\n",
      "  Stored in directory: /root/.cache/pip/wheels/9a/b9/4f/99b7c8c5c75355550b83e1fcfc02956fb40c35eb01e2262877\r\n",
      "Successfully built mitdeeplearning\r\n",
      "Installing collected packages: mitdeeplearning\r\n",
      "Successfully installed mitdeeplearning-0.2.0\r\n"
     ]
    }
   ],
   "source": [
    "!pip install mitdeeplearning\n",
    "import mitdeeplearning as mdl"
   ]
  },
  {
   "cell_type": "code",
   "execution_count": 2,
   "metadata": {
    "execution": {
     "iopub.execute_input": "2021-03-31T13:04:01.049106Z",
     "iopub.status.busy": "2021-03-31T13:04:01.048604Z",
     "iopub.status.idle": "2021-03-31T13:04:01.052475Z",
     "shell.execute_reply": "2021-03-31T13:04:01.052053Z"
    },
    "papermill": {
     "duration": 0.033702,
     "end_time": "2021-03-31T13:04:01.052596",
     "exception": false,
     "start_time": "2021-03-31T13:04:01.018894",
     "status": "completed"
    },
    "tags": []
   },
   "outputs": [],
   "source": [
    "import h5py\n",
    "import numpy as np\n",
    "import tensorflow as tf\n",
    "import matplotlib.pyplot as plt\n",
    "\n",
    "from tqdm import tqdm\n",
    "from tensorflow.keras import layers as L\n",
    "import tensorflow.keras.preprocessing.image as imgPrep\n",
    "import os\n",
    "import pandas as pd\n",
    "from tensorflow.keras.utils import plot_model\n",
    "\n",
    "###Constant###\n",
    "LATENT_EPOCHS = 25\n",
    "SMOOTHING_FAC = 0"
   ]
  },
  {
   "cell_type": "code",
   "execution_count": 3,
   "metadata": {
    "execution": {
     "iopub.execute_input": "2021-03-31T13:04:20.942273Z",
     "iopub.status.busy": "2021-03-31T13:04:20.941099Z",
     "iopub.status.idle": "2021-03-31T13:04:20.945300Z",
     "shell.execute_reply": "2021-03-31T13:04:20.945960Z"
    },
    "papermill": {
     "duration": 19.86827,
     "end_time": "2021-03-31T13:04:20.946120",
     "exception": false,
     "start_time": "2021-03-31T13:04:01.077850",
     "status": "completed"
    },
    "tags": []
   },
   "outputs": [],
   "source": [
    "data_path = r'../input/melanoma-h5-dataset/short_data.h5'\n",
    "cache = h5py.File(data_path, 'r')\n",
    "images = cache['images'][:]"
   ]
  },
  {
   "cell_type": "code",
   "execution_count": 4,
   "metadata": {
    "execution": {
     "iopub.execute_input": "2021-03-31T13:04:21.002817Z",
     "iopub.status.busy": "2021-03-31T13:04:21.001639Z",
     "iopub.status.idle": "2021-03-31T13:04:21.004449Z",
     "shell.execute_reply": "2021-03-31T13:04:21.004011Z"
    },
    "papermill": {
     "duration": 0.032182,
     "end_time": "2021-03-31T13:04:21.004560",
     "exception": false,
     "start_time": "2021-03-31T13:04:20.972378",
     "status": "completed"
    },
    "tags": []
   },
   "outputs": [],
   "source": [
    "labels = cache['labels'][:].astype(np.float32)\n",
    "labels = labels.reshape(-1, 1)"
   ]
  },
  {
   "cell_type": "code",
   "execution_count": 5,
   "metadata": {
    "execution": {
     "iopub.execute_input": "2021-03-31T13:04:21.061557Z",
     "iopub.status.busy": "2021-03-31T13:04:21.060280Z",
     "iopub.status.idle": "2021-03-31T13:04:21.063105Z",
     "shell.execute_reply": "2021-03-31T13:04:21.062682Z"
    },
    "papermill": {
     "duration": 0.033041,
     "end_time": "2021-03-31T13:04:21.063210",
     "exception": false,
     "start_time": "2021-03-31T13:04:21.030169",
     "status": "completed"
    },
    "tags": []
   },
   "outputs": [],
   "source": [
    "number_of_training_examples = images.shape[0]\n",
    "image_dims = images.shape\n",
    "n_train_samples = image_dims[0]\n",
    "train_inds = np.random.permutation(np.arange(n_train_samples))\n",
    "pos_train_inds = train_inds[labels[train_inds, 0] == 1.0 ]\n",
    "neg_train_inds = train_inds[labels[train_inds, 0] != 1.0 ]"
   ]
  },
  {
   "cell_type": "code",
   "execution_count": 6,
   "metadata": {
    "execution": {
     "iopub.execute_input": "2021-03-31T13:04:21.119380Z",
     "iopub.status.busy": "2021-03-31T13:04:21.118836Z",
     "iopub.status.idle": "2021-03-31T13:04:21.122771Z",
     "shell.execute_reply": "2021-03-31T13:04:21.122286Z"
    },
    "papermill": {
     "duration": 0.034771,
     "end_time": "2021-03-31T13:04:21.122894",
     "exception": false,
     "start_time": "2021-03-31T13:04:21.088123",
     "status": "completed"
    },
    "tags": []
   },
   "outputs": [],
   "source": [
    "def get_batch(n, only_faces=False, p_pos=None, p_neg=None, return_inds=False):\n",
    "    if only_faces:\n",
    "            selected_inds = np.random.choice(pos_train_inds, size=n, replace=False, p=p_pos)\n",
    "    else:\n",
    "        selected_pos_inds = np.random.choice(pos_train_inds, size=n//2, replace=False, p=p_pos)\n",
    "        selected_neg_inds = np.random.choice(neg_train_inds, size=n//2, replace=False, p=p_neg)\n",
    "        selected_inds = np.concatenate((selected_pos_inds, selected_neg_inds))\n",
    "    sorted_inds = np.sort(selected_inds)\n",
    "    train_img = (images[sorted_inds,:,:,::]).astype(np.float32)\n",
    "    train_label = labels[sorted_inds,...]\n",
    "    return (train_img, train_label, sorted_inds) if return_inds else (train_img, train_label)"
   ]
  },
  {
   "cell_type": "code",
   "execution_count": 7,
   "metadata": {
    "execution": {
     "iopub.execute_input": "2021-03-31T13:04:21.180461Z",
     "iopub.status.busy": "2021-03-31T13:04:21.179359Z",
     "iopub.status.idle": "2021-03-31T13:04:21.198217Z",
     "shell.execute_reply": "2021-03-31T13:04:21.197765Z"
    },
    "papermill": {
     "duration": 0.050383,
     "end_time": "2021-03-31T13:04:21.198349",
     "exception": false,
     "start_time": "2021-03-31T13:04:21.147966",
     "status": "completed"
    },
    "tags": []
   },
   "outputs": [],
   "source": [
    "(images_batch, labels_batch) = get_batch(32)"
   ]
  },
  {
   "cell_type": "code",
   "execution_count": 8,
   "metadata": {
    "execution": {
     "iopub.execute_input": "2021-03-31T13:04:21.268017Z",
     "iopub.status.busy": "2021-03-31T13:04:21.267528Z",
     "iopub.status.idle": "2021-03-31T13:04:23.029060Z",
     "shell.execute_reply": "2021-03-31T13:04:23.029477Z"
    },
    "papermill": {
     "duration": 1.806006,
     "end_time": "2021-03-31T13:04:23.029631",
     "exception": false,
     "start_time": "2021-03-31T13:04:21.223625",
     "status": "completed"
    },
    "tags": []
   },
   "outputs": [
    {
     "data": {
      "text/plain": [
       "<Figure size 432x432 with 0 Axes>"
      ]
     },
     "metadata": {},
     "output_type": "display_data"
    },
    {
     "data": {
      "image/png": "[encoded data removed]",
      "text/plain": [
       "<Figure size 432x288 with 32 Axes>"
      ]
     },
     "metadata": {},
     "output_type": "display_data"
    }
   ],
   "source": [
    "plt.rcParams[\"axes.grid\"] = False\n",
    "plt.figure(figsize=(6,6))\n",
    "f, axarr = plt.subplots(4,8)\n",
    "count = 0\n",
    "for i in range(4):\n",
    "    for j in range(8):\n",
    "        axarr[i, j].imshow(images_batch[count]); plt.grid(False); count+=1\n",
    "        axarr[i, j].set_xticks([])\n",
    "        axarr[i, j].set_yticks([])"
   ]
  },
  {
   "cell_type": "code",
   "execution_count": 9,
   "metadata": {
    "execution": {
     "iopub.execute_input": "2021-03-31T13:04:23.093247Z",
     "iopub.status.busy": "2021-03-31T13:04:23.091575Z",
     "iopub.status.idle": "2021-03-31T13:04:23.093858Z",
     "shell.execute_reply": "2021-03-31T13:04:23.094265Z"
    },
    "papermill": {
     "duration": 0.035897,
     "end_time": "2021-03-31T13:04:23.094385",
     "exception": false,
     "start_time": "2021-03-31T13:04:23.058488",
     "status": "completed"
    },
    "tags": []
   },
   "outputs": [],
   "source": [
    "def vae_loss_function(x, x_recon, mu, logsigma, kl_weight=0.0005):\n",
    "    latent_loss = tf.reduce_sum(tf.exp(logsigma)+mu**2-1-logsigma, axis=1)*0.5\n",
    "    reconstruction_loss = tf.reduce_mean(tf.abs(x-x_recon), axis=(1, 2, 3))\n",
    "    vae_loss = kl_weight*latent_loss+reconstruction_loss\n",
    "    return vae_loss"
   ]
  },
  {
   "cell_type": "code",
   "execution_count": 10,
   "metadata": {
    "execution": {
     "iopub.execute_input": "2021-03-31T13:04:23.160331Z",
     "iopub.status.busy": "2021-03-31T13:04:23.159221Z",
     "iopub.status.idle": "2021-03-31T13:04:23.161695Z",
     "shell.execute_reply": "2021-03-31T13:04:23.162053Z"
    },
    "papermill": {
     "duration": 0.039308,
     "end_time": "2021-03-31T13:04:23.162182",
     "exception": false,
     "start_time": "2021-03-31T13:04:23.122874",
     "status": "completed"
    },
    "tags": []
   },
   "outputs": [],
   "source": [
    "n_filters=12\n",
    "def make_standard_classifier(n_outputs=1):\n",
    "    model = tf.keras.Sequential()\n",
    "    model.add(L.Conv2D(filters=1*n_filters, kernel_size=5, \n",
    "                       strides=2, padding='same', activation='relu'))\n",
    "    model.add(L.BatchNormalization())\n",
    "\n",
    "    model.add(L.Conv2D(filters=2*n_filters, kernel_size=5, \n",
    "                       strides=2, padding='same', activation='relu'))\n",
    "    model.add(L.BatchNormalization())\n",
    "\n",
    "    model.add(L.Conv2D(filters=4*n_filters, kernel_size=5, \n",
    "                       strides=2, padding='same', activation='relu'))\n",
    "    model.add(L.BatchNormalization())\n",
    "\n",
    "    model.add(L.Conv2D(filters=6*n_filters, kernel_size=5, \n",
    "                       strides=2, padding='same', activation='relu'))\n",
    "    model.add(L.BatchNormalization())\n",
    "\n",
    "    model.add(L.Conv2D(filters=8*n_filters, kernel_size=5, \n",
    "                       strides=2, padding='same', activation='relu'))\n",
    "    model.add(L.BatchNormalization())\n",
    "\n",
    "    model.add(L.Flatten())\n",
    "    model.add(L.Dense(512))\n",
    "    model.add(L.Dense(n_outputs, activation=None))\n",
    "    return model"
   ]
  },
  {
   "cell_type": "code",
   "execution_count": 11,
   "metadata": {
    "execution": {
     "iopub.execute_input": "2021-03-31T13:04:23.224511Z",
     "iopub.status.busy": "2021-03-31T13:04:23.222800Z",
     "iopub.status.idle": "2021-03-31T13:04:23.225106Z",
     "shell.execute_reply": "2021-03-31T13:04:23.225509Z"
    },
    "papermill": {
     "duration": 0.03503,
     "end_time": "2021-03-31T13:04:23.225620",
     "exception": false,
     "start_time": "2021-03-31T13:04:23.190590",
     "status": "completed"
    },
    "tags": []
   },
   "outputs": [],
   "source": [
    "def sampling(z_mean, z_logsigma):\n",
    "    # By default, random.normal is \"standard\" (ie. mean=0 and std=1.0)\n",
    "    batch, latent_dim = z_mean.shape\n",
    "    epsilon = tf.random.normal(shape=(batch, latent_dim))\n",
    "    z = z_mean+tf.exp(0.5*z_logsigma)*epsilon\n",
    "    return z"
   ]
  },
  {
   "cell_type": "code",
   "execution_count": 12,
   "metadata": {
    "execution": {
     "iopub.execute_input": "2021-03-31T13:04:23.287634Z",
     "iopub.status.busy": "2021-03-31T13:04:23.286518Z",
     "iopub.status.idle": "2021-03-31T13:04:23.288859Z",
     "shell.execute_reply": "2021-03-31T13:04:23.289273Z"
    },
    "papermill": {
     "duration": 0.03516,
     "end_time": "2021-03-31T13:04:23.289386",
     "exception": false,
     "start_time": "2021-03-31T13:04:23.254226",
     "status": "completed"
    },
    "tags": []
   },
   "outputs": [],
   "source": [
    "def debiasing_loss_function(x, x_pred, y, y_logit, mu, logsigma):\n",
    "\n",
    "    vae_loss = vae_loss_function(x, x_pred, mu, logsigma) \n",
    "    classification_loss = tf.nn.weighted_cross_entropy_with_logits(y, y_logit, 2.0)\n",
    "\n",
    "#     face_indicator = tf.cast(tf.equal(y, 1), tf.float32)\n",
    "\n",
    "#     total_loss = classification_loss+face_indicator*vae_loss\n",
    "    total_loss = classification_loss+vae_loss\n",
    "\n",
    "    return total_loss, classification_loss"
   ]
  },
  {
   "cell_type": "code",
   "execution_count": 13,
   "metadata": {
    "execution": {
     "iopub.execute_input": "2021-03-31T13:04:23.352578Z",
     "iopub.status.busy": "2021-03-31T13:04:23.351935Z",
     "iopub.status.idle": "2021-03-31T13:04:23.355640Z",
     "shell.execute_reply": "2021-03-31T13:04:23.355199Z"
    },
    "papermill": {
     "duration": 0.038047,
     "end_time": "2021-03-31T13:04:23.355740",
     "exception": false,
     "start_time": "2021-03-31T13:04:23.317693",
     "status": "completed"
    },
    "tags": []
   },
   "outputs": [],
   "source": [
    "n_filters = 12 \n",
    "latent_dim = 100 \n",
    "def make_face_decoder_network():\n",
    "\n",
    "    decoder = tf.keras.Sequential([\n",
    "    L.Dense(units=8*8*8*n_filters, activation='relu'),  \n",
    "    L.Reshape(target_shape=(8, 8, 8*n_filters)),\n",
    "\n",
    "    L.Conv2DTranspose(filters=6*n_filters, kernel_size=5,  strides=2, padding='same', activation='relu'),\n",
    "    L.Conv2DTranspose(filters=4*n_filters, kernel_size=5,  strides=2, padding='same', activation='relu'),\n",
    "    L.Conv2DTranspose(filters=2*n_filters, kernel_size=5,  strides=2, padding='same', activation='relu'),\n",
    "    L.Conv2DTranspose(filters=1*n_filters, kernel_size=5,  strides=2, padding='same', activation='relu'),\n",
    "    L.Conv2DTranspose(filters=3, kernel_size=5,  strides=2, padding='same', activation='relu'),\n",
    "    ])\n",
    "\n",
    "    return decoder"
   ]
  },
  {
   "cell_type": "code",
   "execution_count": 14,
   "metadata": {
    "execution": {
     "iopub.execute_input": "2021-03-31T13:04:23.421104Z",
     "iopub.status.busy": "2021-03-31T13:04:23.420621Z",
     "iopub.status.idle": "2021-03-31T13:04:26.655935Z",
     "shell.execute_reply": "2021-03-31T13:04:26.655475Z"
    },
    "papermill": {
     "duration": 3.272053,
     "end_time": "2021-03-31T13:04:26.656064",
     "exception": false,
     "start_time": "2021-03-31T13:04:23.384011",
     "status": "completed"
    },
    "tags": []
   },
   "outputs": [],
   "source": [
    "class DB_VAE(tf.keras.Model):\n",
    "  def __init__(self, latent_dim):\n",
    "    super(DB_VAE, self).__init__()\n",
    "    self.latent_dim = latent_dim\n",
    "\n",
    "    num_encoder_dims = 2*self.latent_dim + 1\n",
    "\n",
    "    self.encoder = make_standard_classifier(num_encoder_dims)\n",
    "    self.decoder = make_face_decoder_network()\n",
    "\n",
    "  def encode(self, x):\n",
    "    encoder_output = self.encoder(x)\n",
    "\n",
    "    y_logit = tf.expand_dims(encoder_output[:, 0], -1)\n",
    "    z_mean = encoder_output[:, 1:self.latent_dim+1] \n",
    "    z_logsigma = encoder_output[:, self.latent_dim+1:]\n",
    "\n",
    "    return y_logit, z_mean, z_logsigma\n",
    "\n",
    "  def reparameterize(self, z_mean, z_logsigma):\n",
    "    z = sampling(z_mean, z_logsigma)\n",
    "    return z\n",
    "\n",
    "  def decode(self, z):\n",
    "    reconstruction = self.decoder(z)\n",
    "    return reconstruction\n",
    "\n",
    "  def call(self, x): \n",
    "    y_logit, z_mean, z_logsigma = self.encode(x)\n",
    "\n",
    "    z = self.reparameterize(z_mean, z_logsigma)\n",
    "\n",
    "    recon = self.decode(z)\n",
    "    return y_logit, z_mean, z_logsigma, recon\n",
    "\n",
    "  def predict(self, x):\n",
    "    y_logit, z_mean, z_logsigma = self.encode(x)\n",
    "    return y_logit\n",
    "\n",
    "dbvae = DB_VAE(latent_dim)\n"
   ]
  },
  {
   "cell_type": "code",
   "execution_count": 15,
   "metadata": {
    "execution": {
     "iopub.execute_input": "2021-03-31T13:04:26.719706Z",
     "iopub.status.busy": "2021-03-31T13:04:26.719037Z",
     "iopub.status.idle": "2021-03-31T13:04:26.722223Z",
     "shell.execute_reply": "2021-03-31T13:04:26.722603Z"
    },
    "papermill": {
     "duration": 0.037382,
     "end_time": "2021-03-31T13:04:26.722725",
     "exception": false,
     "start_time": "2021-03-31T13:04:26.685343",
     "status": "completed"
    },
    "tags": []
   },
   "outputs": [],
   "source": [
    "def get_latent_mu(images, dbvae, batch_size=1024):\n",
    "  N = images.shape[0]\n",
    "  mu = np.zeros((N, latent_dim))\n",
    "  for start_ind in range(0, N, batch_size):\n",
    "    end_ind = min(start_ind+batch_size, N+1)\n",
    "    batch = (images[start_ind:end_ind]).astype(np.float32)#/255.\n",
    "    _, batch_mu, _ = dbvae.encode(batch)\n",
    "    mu[start_ind:end_ind] = batch_mu\n",
    "  return mu"
   ]
  },
  {
   "cell_type": "code",
   "execution_count": 16,
   "metadata": {
    "execution": {
     "iopub.execute_input": "2021-03-31T13:04:26.790454Z",
     "iopub.status.busy": "2021-03-31T13:04:26.788758Z",
     "iopub.status.idle": "2021-03-31T13:04:26.791033Z",
     "shell.execute_reply": "2021-03-31T13:04:26.791449Z"
    },
    "papermill": {
     "duration": 0.040365,
     "end_time": "2021-03-31T13:04:26.791568",
     "exception": false,
     "start_time": "2021-03-31T13:04:26.751203",
     "status": "completed"
    },
    "tags": []
   },
   "outputs": [],
   "source": [
    "def get_training_sample_probabilities(images, dbvae, bins=10, smoothing_fac=SMOOTHING_FAC): \n",
    "    print(\"Recomputing the sampling probabilities\")\n",
    "    \n",
    "    mu = get_latent_mu(images, dbvae) \n",
    "\n",
    "    # sampling probabilities for the images\n",
    "    training_sample_p = np.zeros(mu.shape[0])\n",
    "    \n",
    "    # consider the distribution for each latent variable \n",
    "    for i in range(latent_dim):\n",
    "      \n",
    "        latent_distribution = mu[:,i]\n",
    "        # generate a histogram of the latent distribution\n",
    "        hist_density, bin_edges =  np.histogram(latent_distribution, density=True, bins=bins)\n",
    "#         if i == 4:\n",
    "#             break\n",
    "#             print(len(latent_distribution))\n",
    "#         plt.hist(latent_distribution, bin_edges)\n",
    "#         plt.show()\n",
    "        \n",
    "        # find which latent bin every data sample falls in \n",
    "        bin_edges[0] = -float('inf')\n",
    "        bin_edges[-1] = float('inf')\n",
    "        \n",
    "        bin_idx = np.digitize(latent_distribution, bin_edges) \n",
    "        \n",
    "        # smooth the density function\n",
    "        hist_smoothed_density = hist_density + smoothing_fac\n",
    "        hist_smoothed_density = hist_smoothed_density / np.sum(hist_smoothed_density)\n",
    "        \n",
    "        # invert the density function \n",
    "        inverse_heights = np.array([1/h for h in hist_smoothed_density])\n",
    "#         print(inverse_heights/np.sum(inverse_heights))\n",
    "        \n",
    "        p = 1.0/(hist_smoothed_density[bin_idx-1])\n",
    "#         print(len(p))\n",
    "        \n",
    "        # normalize all probabilities\n",
    "        p = p/np.sum(p)\n",
    "        \n",
    "        # update sampling probabilities by considering whether the newly\n",
    "        #     computed p is greater than the existing sampling probabilities.\n",
    "        training_sample_p = np.maximum(p, training_sample_p)\n",
    "        \n",
    "    # final normalization\n",
    "    training_sample_p /= np.sum(training_sample_p)\n",
    "\n",
    "    return training_sample_p"
   ]
  },
  {
   "cell_type": "code",
   "execution_count": 17,
   "metadata": {
    "execution": {
     "iopub.execute_input": "2021-03-31T13:04:26.854238Z",
     "iopub.status.busy": "2021-03-31T13:04:26.852590Z",
     "iopub.status.idle": "2021-03-31T13:04:26.854872Z",
     "shell.execute_reply": "2021-03-31T13:04:26.855285Z"
    },
    "papermill": {
     "duration": 0.035034,
     "end_time": "2021-03-31T13:04:26.855405",
     "exception": false,
     "start_time": "2021-03-31T13:04:26.820371",
     "status": "completed"
    },
    "tags": []
   },
   "outputs": [],
   "source": [
    "import IPython"
   ]
  },
  {
   "cell_type": "code",
   "execution_count": 18,
   "metadata": {
    "execution": {
     "iopub.execute_input": "2021-03-31T13:04:26.927339Z",
     "iopub.status.busy": "2021-03-31T13:04:26.926539Z",
     "iopub.status.idle": "2021-03-31T13:05:25.424532Z",
     "shell.execute_reply": "2021-03-31T13:05:25.425075Z"
    },
    "papermill": {
     "duration": 58.538581,
     "end_time": "2021-03-31T13:05:25.425299",
     "exception": false,
     "start_time": "2021-03-31T13:04:26.886718",
     "status": "completed"
    },
    "tags": []
   },
   "outputs": [
    {
     "name": "stdout",
     "output_type": "stream",
     "text": [
      "Starting epoch 25/25\n",
      "Recomputing the sampling probabilities\n"
     ]
    },
    {
     "name": "stderr",
     "output_type": "stream",
     "text": [
      "  0%|          | 0/36 [00:00<?, ?it/s]"
     ]
    },
    {
     "data": {
      "image/png": "[encoded data removed]",
      "text/plain": [
       "<Figure size 144x72 with 2 Axes>"
      ]
     },
     "metadata": {
      "needs_background": "light"
     },
     "output_type": "display_data"
    },
    {
     "name": "stderr",
     "output_type": "stream",
     "text": [
      "100%|██████████| 36/36 [00:01<00:00, 26.25it/s]\n"
     ]
    }
   ],
   "source": [
    "batch_size = 32\n",
    "learning_rate = 5e-4\n",
    "latent_dim = 100\n",
    "\n",
    "num_epochs = LATENT_EPOCHS \n",
    "\n",
    "# instantiate a new DB-VAE model and optimizer\n",
    "dbvae = DB_VAE(latent_dim)\n",
    "optimizer = tf.keras.optimizers.Adam(learning_rate)\n",
    "\n",
    "\n",
    "@tf.function\n",
    "def debiasing_train_step(x, y):\n",
    "\n",
    "  with tf.GradientTape() as tape:\n",
    "    # Feed input x into dbvae. Note that this is using the DB_VAE call function!\n",
    "    y_logit, z_mean, z_logsigma, x_recon = dbvae(x)\n",
    "    \n",
    "        \n",
    "        # Compute the loss\n",
    "    loss, class_loss = debiasing_loss_function(x, x_recon, y, y_logit, z_mean, z_logsigma) # TODO\n",
    "\n",
    "  grads = tape.gradient(loss, dbvae.trainable_variables) \n",
    "\n",
    "  # apply gradients to variables\n",
    "  optimizer.apply_gradients(zip(grads, dbvae.trainable_variables))\n",
    "  return loss\n",
    "\n",
    "# get training faces from data loader\n",
    "all_faces = images[pos_train_inds]\n",
    "all_non_faces = images[neg_train_inds]\n",
    "if hasattr(tqdm, '_instances'): tqdm._instances.clear() \n",
    "\n",
    "# The training loop -- outer loop iterates over the number of epochs\n",
    "for i in range(num_epochs):\n",
    "\n",
    "  IPython.display.clear_output(wait=True)\n",
    "  print(\"Starting epoch {}/{}\".format(i+1, num_epochs))\n",
    "\n",
    "  # Recompute data sampling proabilities\n",
    "  '''TODO: recompute the sampling probabilities for debiasing'''\n",
    "  p_faces = get_training_sample_probabilities(all_faces, dbvae) # TODO\n",
    "#   p_neg = get_training_sample_probabilities(all_non_faces, dbvae)\n",
    "  # get a batch of training data and compute the training step\n",
    "  for j in tqdm(range(n_train_samples // batch_size)):\n",
    "    # load a batch of data\n",
    "    (x, y) = get_batch(batch_size, p_pos=p_faces)\n",
    "    # loss optimization\n",
    "    loss = debiasing_train_step(x, y)\n",
    "    # plot the progress every 200 steps\n",
    "    if j % 500 == 0: \n",
    "      mdl.util.plot_sample(x, y, dbvae)"
   ]
  },
  {
   "cell_type": "code",
   "execution_count": 19,
   "metadata": {
    "execution": {
     "iopub.execute_input": "2021-03-31T13:05:25.502087Z",
     "iopub.status.busy": "2021-03-31T13:05:25.498902Z",
     "iopub.status.idle": "2021-03-31T13:05:25.511498Z",
     "shell.execute_reply": "2021-03-31T13:05:25.511914Z"
    },
    "papermill": {
     "duration": 0.051091,
     "end_time": "2021-03-31T13:05:25.512043",
     "exception": false,
     "start_time": "2021-03-31T13:05:25.460952",
     "status": "completed"
    },
    "tags": []
   },
   "outputs": [
    {
     "name": "stdout",
     "output_type": "stream",
     "text": [
      "Model: \"sequential_2\"\n",
      "_________________________________________________________________\n",
      "Layer (type)                 Output Shape              Param #   \n",
      "=================================================================\n",
      "conv2d_5 (Conv2D)            (None, 128, 128, 12)      912       \n",
      "_________________________________________________________________\n",
      "batch_normalization_5 (Batch (None, 128, 128, 12)      48        \n",
      "_________________________________________________________________\n",
      "conv2d_6 (Conv2D)            (None, 64, 64, 24)        7224      \n",
      "_________________________________________________________________\n",
      "batch_normalization_6 (Batch (None, 64, 64, 24)        96        \n",
      "_________________________________________________________________\n",
      "conv2d_7 (Conv2D)            (None, 32, 32, 48)        28848     \n",
      "_________________________________________________________________\n",
      "batch_normalization_7 (Batch (None, 32, 32, 48)        192       \n",
      "_________________________________________________________________\n",
      "conv2d_8 (Conv2D)            (None, 16, 16, 72)        86472     \n",
      "_________________________________________________________________\n",
      "batch_normalization_8 (Batch (None, 16, 16, 72)        288       \n",
      "_________________________________________________________________\n",
      "conv2d_9 (Conv2D)            (None, 8, 8, 96)          172896    \n",
      "_________________________________________________________________\n",
      "batch_normalization_9 (Batch (None, 8, 8, 96)          384       \n",
      "_________________________________________________________________\n",
      "flatten_1 (Flatten)          (None, 6144)              0         \n",
      "_________________________________________________________________\n",
      "dense_3 (Dense)              (None, 512)               3146240   \n",
      "_________________________________________________________________\n",
      "dense_4 (Dense)              (None, 201)               103113    \n",
      "=================================================================\n",
      "Total params: 3,546,713\n",
      "Trainable params: 3,546,209\n",
      "Non-trainable params: 504\n",
      "_________________________________________________________________\n"
     ]
    }
   ],
   "source": [
    "dbvae.encoder.summary()"
   ]
  },
  {
   "cell_type": "code",
   "execution_count": 20,
   "metadata": {
    "execution": {
     "iopub.execute_input": "2021-03-31T13:05:25.585057Z",
     "iopub.status.busy": "2021-03-31T13:05:25.584271Z",
     "iopub.status.idle": "2021-03-31T13:05:25.596090Z",
     "shell.execute_reply": "2021-03-31T13:05:25.595540Z"
    },
    "papermill": {
     "duration": 0.049538,
     "end_time": "2021-03-31T13:05:25.596208",
     "exception": false,
     "start_time": "2021-03-31T13:05:25.546670",
     "status": "completed"
    },
    "tags": []
   },
   "outputs": [
    {
     "name": "stdout",
     "output_type": "stream",
     "text": [
      "Model: \"sequential_2\"\n",
      "_________________________________________________________________\n",
      "Layer (type)                 Output Shape              Param #   \n",
      "=================================================================\n",
      "conv2d_5 (Conv2D)            (None, 128, 128, 12)      912       \n",
      "_________________________________________________________________\n",
      "batch_normalization_5 (Batch (None, 128, 128, 12)      48        \n",
      "_________________________________________________________________\n",
      "conv2d_6 (Conv2D)            (None, 64, 64, 24)        7224      \n",
      "_________________________________________________________________\n",
      "batch_normalization_6 (Batch (None, 64, 64, 24)        96        \n",
      "_________________________________________________________________\n",
      "conv2d_7 (Conv2D)            (None, 32, 32, 48)        28848     \n",
      "_________________________________________________________________\n",
      "batch_normalization_7 (Batch (None, 32, 32, 48)        192       \n",
      "_________________________________________________________________\n",
      "conv2d_8 (Conv2D)            (None, 16, 16, 72)        86472     \n",
      "_________________________________________________________________\n",
      "batch_normalization_8 (Batch (None, 16, 16, 72)        288       \n",
      "_________________________________________________________________\n",
      "conv2d_9 (Conv2D)            (None, 8, 8, 96)          172896    \n",
      "_________________________________________________________________\n",
      "batch_normalization_9 (Batch (None, 8, 8, 96)          384       \n",
      "_________________________________________________________________\n",
      "flatten_1 (Flatten)          (None, 6144)              0         \n",
      "_________________________________________________________________\n",
      "dense_3 (Dense)              (None, 512)               3146240   \n",
      "_________________________________________________________________\n",
      "dense_4 (Dense)              (None, 201)               103113    \n",
      "=================================================================\n",
      "Total params: 3,546,713\n",
      "Trainable params: 3,546,209\n",
      "Non-trainable params: 504\n",
      "_________________________________________________________________\n"
     ]
    }
   ],
   "source": [
    "class_model = dbvae.encoder\n",
    "class_model.summary()"
   ]
  },
  {
   "cell_type": "code",
   "execution_count": 21,
   "metadata": {
    "execution": {
     "iopub.execute_input": "2021-03-31T13:05:25.682352Z",
     "iopub.status.busy": "2021-03-31T13:05:25.671595Z",
     "iopub.status.idle": "2021-03-31T13:05:25.686807Z",
     "shell.execute_reply": "2021-03-31T13:05:25.687394Z"
    },
    "papermill": {
     "duration": 0.056311,
     "end_time": "2021-03-31T13:05:25.687554",
     "exception": false,
     "start_time": "2021-03-31T13:05:25.631243",
     "status": "completed"
    },
    "tags": []
   },
   "outputs": [
    {
     "name": "stdout",
     "output_type": "stream",
     "text": [
      "Model: \"sequential_2\"\n",
      "_________________________________________________________________\n",
      "Layer (type)                 Output Shape              Param #   \n",
      "=================================================================\n",
      "conv2d_5 (Conv2D)            (None, 128, 128, 12)      912       \n",
      "_________________________________________________________________\n",
      "batch_normalization_5 (Batch (None, 128, 128, 12)      48        \n",
      "_________________________________________________________________\n",
      "conv2d_6 (Conv2D)            (None, 64, 64, 24)        7224      \n",
      "_________________________________________________________________\n",
      "batch_normalization_6 (Batch (None, 64, 64, 24)        96        \n",
      "_________________________________________________________________\n",
      "conv2d_7 (Conv2D)            (None, 32, 32, 48)        28848     \n",
      "_________________________________________________________________\n",
      "batch_normalization_7 (Batch (None, 32, 32, 48)        192       \n",
      "_________________________________________________________________\n",
      "conv2d_8 (Conv2D)            (None, 16, 16, 72)        86472     \n",
      "_________________________________________________________________\n",
      "batch_normalization_8 (Batch (None, 16, 16, 72)        288       \n",
      "_________________________________________________________________\n",
      "conv2d_9 (Conv2D)            (None, 8, 8, 96)          172896    \n",
      "_________________________________________________________________\n",
      "batch_normalization_9 (Batch (None, 8, 8, 96)          384       \n",
      "_________________________________________________________________\n",
      "flatten_1 (Flatten)          (None, 6144)              0         \n",
      "_________________________________________________________________\n",
      "dense_3 (Dense)              (None, 512)               3146240   \n",
      "_________________________________________________________________\n",
      "dense_4 (Dense)              (None, 201)               103113    \n",
      "_________________________________________________________________\n",
      "lambda (Lambda)              (None, 1)                 0         \n",
      "=================================================================\n",
      "Total params: 3,546,713\n",
      "Trainable params: 3,546,209\n",
      "Non-trainable params: 504\n",
      "_________________________________________________________________\n"
     ]
    }
   ],
   "source": [
    "class_model.add(L.Lambda(lambda output: tf.sigmoid(tf.expand_dims(output[:, 0], -1))))\n",
    "class_model.summary()"
   ]
  },
  {
   "cell_type": "code",
   "execution_count": 22,
   "metadata": {
    "execution": {
     "iopub.execute_input": "2021-03-31T13:05:25.765264Z",
     "iopub.status.busy": "2021-03-31T13:05:25.764648Z",
     "iopub.status.idle": "2021-03-31T13:05:25.767467Z",
     "shell.execute_reply": "2021-03-31T13:05:25.767047Z"
    },
    "papermill": {
     "duration": 0.04385,
     "end_time": "2021-03-31T13:05:25.767570",
     "exception": false,
     "start_time": "2021-03-31T13:05:25.723720",
     "status": "completed"
    },
    "tags": []
   },
   "outputs": [],
   "source": [
    "class SigmoidToSoftmax(tf.keras.layers.Layer):\n",
    "    def __init__(self, units=2):\n",
    "        super(SigmoidToSoftmax, self).__init__()\n",
    "        self.units = units\n",
    "    \n",
    "    def build(self, input_shape):\n",
    "        ones_init = tf.ones_initializer()\n",
    "        self.ones = tf.Variable(name='ones',\n",
    "                          initial_value=ones_init(shape=(input_shape[-1], 1),\n",
    "                          dtype='float32'), trainable=True)\n",
    "        \n",
    "    def call(self, inputs):\n",
    "        benign = tf.subtract(self.ones, inputs)\n",
    "        return tf.concat([benign, inputs], -1)"
   ]
  },
  {
   "cell_type": "code",
   "execution_count": 23,
   "metadata": {
    "execution": {
     "iopub.execute_input": "2021-03-31T13:05:25.843423Z",
     "iopub.status.busy": "2021-03-31T13:05:25.842895Z",
     "iopub.status.idle": "2021-03-31T13:05:25.852939Z",
     "shell.execute_reply": "2021-03-31T13:05:25.853562Z"
    },
    "papermill": {
     "duration": 0.050302,
     "end_time": "2021-03-31T13:05:25.853717",
     "exception": false,
     "start_time": "2021-03-31T13:05:25.803415",
     "status": "completed"
    },
    "tags": []
   },
   "outputs": [
    {
     "data": {
      "text/plain": [
       "<tf.Tensor: shape=(3, 2), dtype=float32, numpy=\n",
       "array([[0.5       , 0.5       ],\n",
       "       [0.25      , 0.75      ],\n",
       "       [0.65999997, 0.34      ]], dtype=float32)>"
      ]
     },
     "execution_count": 23,
     "metadata": {},
     "output_type": "execute_result"
    }
   ],
   "source": [
    "newLayer = SigmoidToSoftmax()\n",
    "sample_input = np.array([[0.5], [0.75], [0.34]])\n",
    "newLayer(sample_input)"
   ]
  },
  {
   "cell_type": "code",
   "execution_count": 24,
   "metadata": {
    "execution": {
     "iopub.execute_input": "2021-03-31T13:05:25.929942Z",
     "iopub.status.busy": "2021-03-31T13:05:25.929100Z",
     "iopub.status.idle": "2021-03-31T13:05:25.933871Z",
     "shell.execute_reply": "2021-03-31T13:05:25.933391Z"
    },
    "papermill": {
     "duration": 0.044022,
     "end_time": "2021-03-31T13:05:25.933991",
     "exception": false,
     "start_time": "2021-03-31T13:05:25.889969",
     "status": "completed"
    },
    "tags": []
   },
   "outputs": [
    {
     "data": {
      "text/plain": [
       "[<tf.Variable 'sigmoid_to_softmax/ones:0' shape=(1, 1) dtype=float32, numpy=array([[1.]], dtype=float32)>]"
      ]
     },
     "execution_count": 24,
     "metadata": {},
     "output_type": "execute_result"
    }
   ],
   "source": [
    "newLayer.variables"
   ]
  },
  {
   "cell_type": "code",
   "execution_count": 25,
   "metadata": {
    "execution": {
     "iopub.execute_input": "2021-03-31T13:05:26.015526Z",
     "iopub.status.busy": "2021-03-31T13:05:26.010057Z",
     "iopub.status.idle": "2021-03-31T13:05:26.517037Z",
     "shell.execute_reply": "2021-03-31T13:05:26.516515Z"
    },
    "papermill": {
     "duration": 0.547147,
     "end_time": "2021-03-31T13:05:26.517162",
     "exception": false,
     "start_time": "2021-03-31T13:05:25.970015",
     "status": "completed"
    },
    "tags": []
   },
   "outputs": [],
   "source": [
    "(batch_x, batch_y) = get_batch(1000)"
   ]
  },
  {
   "cell_type": "code",
   "execution_count": 26,
   "metadata": {
    "execution": {
     "iopub.execute_input": "2021-03-31T13:05:27.144127Z",
     "iopub.status.busy": "2021-03-31T13:05:27.143542Z",
     "iopub.status.idle": "2021-03-31T13:05:27.947561Z",
     "shell.execute_reply": "2021-03-31T13:05:27.948243Z"
    },
    "papermill": {
     "duration": 1.391557,
     "end_time": "2021-03-31T13:05:27.948461",
     "exception": false,
     "start_time": "2021-03-31T13:05:26.556904",
     "status": "completed"
    },
    "tags": []
   },
   "outputs": [
    {
     "data": {
      "text/plain": [
       "array([[4.12509078e-03],\n",
       "       [4.04588401e-01],\n",
       "       [3.18104704e-03],\n",
       "       [4.65337217e-01],\n",
       "       [9.58677009e-03],\n",
       "       [3.18611450e-02],\n",
       "       [4.41116840e-03],\n",
       "       [2.21087843e-01],\n",
       "       [4.26877569e-03],\n",
       "       [4.80640344e-02],\n",
       "       [5.73417664e-01],\n",
       "       [5.20666301e-01],\n",
       "       [5.41788852e-03],\n",
       "       [1.01148367e-01],\n",
       "       [6.19682707e-02],\n",
       "       [6.94318593e-01],\n",
       "       [5.02905110e-03],\n",
       "       [7.33427525e-01],\n",
       "       [1.13910720e-01],\n",
       "       [4.45548072e-03],\n",
       "       [5.22482574e-01],\n",
       "       [2.58214418e-02],\n",
       "       [3.27958226e-01],\n",
       "       [1.92145929e-01],\n",
       "       [6.14851154e-03],\n",
       "       [7.18874335e-01],\n",
       "       [4.34934497e-01],\n",
       "       [1.77710786e-01],\n",
       "       [4.47644144e-01],\n",
       "       [1.60680562e-01],\n",
       "       [2.68392146e-01],\n",
       "       [4.06716624e-03],\n",
       "       [4.99651022e-02],\n",
       "       [2.19069645e-01],\n",
       "       [1.28490239e-01],\n",
       "       [2.21764550e-01],\n",
       "       [1.24489419e-01],\n",
       "       [3.88072543e-02],\n",
       "       [1.74719449e-02],\n",
       "       [8.79570562e-03],\n",
       "       [1.24777025e-02],\n",
       "       [1.54836597e-02],\n",
       "       [8.85729790e-01],\n",
       "       [1.16720004e-02],\n",
       "       [1.33251976e-02],\n",
       "       [1.15585022e-01],\n",
       "       [7.48328958e-03],\n",
       "       [1.00116991e-02],\n",
       "       [7.33164027e-02],\n",
       "       [2.03276481e-02],\n",
       "       [4.46849456e-03],\n",
       "       [8.26650932e-02],\n",
       "       [5.42122602e-01],\n",
       "       [4.26322520e-02],\n",
       "       [6.47826016e-01],\n",
       "       [3.18144932e-02],\n",
       "       [1.44183533e-02],\n",
       "       [3.65804397e-02],\n",
       "       [1.94430843e-01],\n",
       "       [4.75235516e-03],\n",
       "       [5.81612214e-02],\n",
       "       [4.01634336e-01],\n",
       "       [6.65949006e-03],\n",
       "       [6.39908062e-03],\n",
       "       [4.22932394e-03],\n",
       "       [6.17533037e-03],\n",
       "       [2.44355246e-01],\n",
       "       [4.53211553e-03],\n",
       "       [9.35790129e-03],\n",
       "       [5.35473321e-03],\n",
       "       [1.09126613e-01],\n",
       "       [4.60527509e-01],\n",
       "       [3.65823656e-01],\n",
       "       [2.18606472e-01],\n",
       "       [5.61074959e-03],\n",
       "       [3.73759449e-01],\n",
       "       [8.09399128e-01],\n",
       "       [1.60576757e-02],\n",
       "       [1.06092840e-01],\n",
       "       [9.05987900e-03],\n",
       "       [1.30190387e-01],\n",
       "       [1.64355186e-03],\n",
       "       [1.57647058e-02],\n",
       "       [1.64173488e-02],\n",
       "       [2.03106478e-02],\n",
       "       [8.02199394e-02],\n",
       "       [5.09129204e-02],\n",
       "       [1.29512504e-01],\n",
       "       [2.72348553e-01],\n",
       "       [7.56612867e-02],\n",
       "       [6.11762166e-01],\n",
       "       [1.69889227e-01],\n",
       "       [5.73725104e-01],\n",
       "       [3.89488488e-01],\n",
       "       [8.42410475e-02],\n",
       "       [7.81531096e-01],\n",
       "       [2.01455634e-02],\n",
       "       [3.57294679e-02],\n",
       "       [3.61088873e-03],\n",
       "       [1.88700333e-02],\n",
       "       [9.82547924e-02],\n",
       "       [7.19204498e-03],\n",
       "       [1.52081121e-02],\n",
       "       [1.83019534e-01],\n",
       "       [4.30200368e-01],\n",
       "       [1.91152737e-01],\n",
       "       [8.78485385e-03],\n",
       "       [3.14040959e-01],\n",
       "       [1.58454210e-01],\n",
       "       [2.22167462e-01],\n",
       "       [5.91372967e-01],\n",
       "       [2.12491620e-02],\n",
       "       [2.38674730e-02],\n",
       "       [4.61448818e-01],\n",
       "       [9.38084070e-03],\n",
       "       [1.09462693e-01],\n",
       "       [3.03820163e-01],\n",
       "       [2.04840619e-02],\n",
       "       [5.95307350e-01],\n",
       "       [1.06613990e-02],\n",
       "       [1.86756119e-01],\n",
       "       [5.96031733e-03],\n",
       "       [6.12252299e-03],\n",
       "       [7.77388334e-01],\n",
       "       [9.28465370e-03],\n",
       "       [8.78302634e-01],\n",
       "       [2.73512285e-02],\n",
       "       [2.41202667e-01],\n",
       "       [1.09060565e-02],\n",
       "       [1.35077145e-02],\n",
       "       [4.30609891e-03],\n",
       "       [4.57998291e-02],\n",
       "       [7.62882233e-02],\n",
       "       [1.00389682e-02],\n",
       "       [1.52636409e-01],\n",
       "       [2.15695202e-01],\n",
       "       [2.50621196e-02],\n",
       "       [1.17224477e-01],\n",
       "       [1.01152081e-02],\n",
       "       [4.38084314e-03],\n",
       "       [2.04654820e-02],\n",
       "       [2.36962318e-01],\n",
       "       [1.40623361e-01],\n",
       "       [9.27502692e-01],\n",
       "       [7.80335581e-03],\n",
       "       [2.62665004e-02],\n",
       "       [2.99734443e-01],\n",
       "       [6.25969768e-02],\n",
       "       [2.32703254e-01],\n",
       "       [1.24225378e-01],\n",
       "       [5.92275381e-01],\n",
       "       [7.82716095e-01],\n",
       "       [2.53847957e-01],\n",
       "       [3.14576109e-03],\n",
       "       [5.22768358e-03],\n",
       "       [1.95693765e-02],\n",
       "       [2.91934540e-03],\n",
       "       [6.42495742e-03],\n",
       "       [4.34695661e-01],\n",
       "       [1.35897491e-02],\n",
       "       [5.25627797e-03],\n",
       "       [1.69433594e-01],\n",
       "       [5.88094220e-02],\n",
       "       [7.94038270e-03],\n",
       "       [2.27071285e-01],\n",
       "       [2.09700260e-02],\n",
       "       [3.04218940e-03],\n",
       "       [2.19871506e-01],\n",
       "       [6.49933843e-03],\n",
       "       [8.89647305e-01],\n",
       "       [1.38897553e-01],\n",
       "       [4.30439591e-01],\n",
       "       [1.86883375e-01],\n",
       "       [2.68031925e-01],\n",
       "       [5.34324199e-02],\n",
       "       [1.52968958e-01],\n",
       "       [3.69965695e-02],\n",
       "       [5.23801893e-03],\n",
       "       [3.90516192e-01],\n",
       "       [2.15166025e-02],\n",
       "       [6.13871496e-03],\n",
       "       [7.51211680e-03],\n",
       "       [4.02261177e-03],\n",
       "       [1.29146539e-02],\n",
       "       [1.14317657e-02],\n",
       "       [4.64928756e-03],\n",
       "       [4.89379978e-03],\n",
       "       [1.40637066e-02],\n",
       "       [6.54475018e-03],\n",
       "       [6.96130982e-03],\n",
       "       [5.45584504e-03],\n",
       "       [8.02294612e-01],\n",
       "       [3.39994729e-01],\n",
       "       [8.80744494e-03],\n",
       "       [1.78048573e-02],\n",
       "       [6.69184327e-01],\n",
       "       [6.61224663e-01],\n",
       "       [1.14596665e-01],\n",
       "       [5.14832512e-03],\n",
       "       [1.10637195e-01],\n",
       "       [3.87580067e-01],\n",
       "       [5.69132939e-02],\n",
       "       [2.81680107e-01],\n",
       "       [5.31199621e-03],\n",
       "       [4.14516479e-01],\n",
       "       [5.78652183e-03],\n",
       "       [2.02030949e-02],\n",
       "       [8.56053233e-02],\n",
       "       [1.31606266e-01],\n",
       "       [9.57829785e-03],\n",
       "       [4.18276452e-02],\n",
       "       [6.53202459e-02],\n",
       "       [6.66667521e-01],\n",
       "       [1.08270481e-01],\n",
       "       [6.46920919e-01],\n",
       "       [4.15973991e-01],\n",
       "       [8.61438271e-03],\n",
       "       [1.96430758e-01],\n",
       "       [2.25707367e-02],\n",
       "       [7.02027278e-03],\n",
       "       [7.64787849e-03],\n",
       "       [8.64752352e-01],\n",
       "       [7.13594444e-03],\n",
       "       [1.98758185e-01],\n",
       "       [8.54679197e-02],\n",
       "       [1.98556095e-01],\n",
       "       [3.83714354e-03],\n",
       "       [4.47536400e-03],\n",
       "       [4.44431836e-03],\n",
       "       [3.30761254e-01],\n",
       "       [8.19649458e-01],\n",
       "       [1.88766479e-01],\n",
       "       [6.49244525e-03],\n",
       "       [9.08239465e-03],\n",
       "       [5.04983263e-03],\n",
       "       [7.32641965e-02],\n",
       "       [7.85518289e-01],\n",
       "       [3.62383544e-01],\n",
       "       [4.14602738e-03],\n",
       "       [1.00455619e-02],\n",
       "       [3.69602978e-01],\n",
       "       [8.26979578e-01],\n",
       "       [1.30211217e-02],\n",
       "       [1.35008534e-02],\n",
       "       [3.77205998e-01],\n",
       "       [3.09229586e-02],\n",
       "       [5.31921327e-01],\n",
       "       [8.46281648e-02],\n",
       "       [6.58378424e-03],\n",
       "       [1.04846887e-01],\n",
       "       [3.27627152e-01],\n",
       "       [2.23334163e-01],\n",
       "       [7.93074444e-02],\n",
       "       [7.32939178e-03],\n",
       "       [1.53682996e-02],\n",
       "       [3.80087807e-03],\n",
       "       [2.88661867e-02],\n",
       "       [1.59009825e-02],\n",
       "       [3.65171358e-02],\n",
       "       [8.51946414e-01],\n",
       "       [4.59548116e-01],\n",
       "       [2.35453881e-02],\n",
       "       [5.26960790e-01],\n",
       "       [9.98295546e-02],\n",
       "       [7.57613838e-01],\n",
       "       [2.07756475e-01],\n",
       "       [4.80750725e-02],\n",
       "       [4.80793417e-02],\n",
       "       [1.82826482e-02],\n",
       "       [9.40569580e-01],\n",
       "       [2.04890683e-01],\n",
       "       [3.02776724e-01],\n",
       "       [7.14251166e-03],\n",
       "       [2.55501419e-01],\n",
       "       [2.15775538e-02],\n",
       "       [1.07850349e-02],\n",
       "       [2.52880782e-01],\n",
       "       [2.07084808e-02],\n",
       "       [2.80731469e-01],\n",
       "       [8.26568250e-03],\n",
       "       [1.90093383e-01],\n",
       "       [3.97758365e-01],\n",
       "       [1.10918926e-02],\n",
       "       [4.16688547e-02],\n",
       "       [8.35851729e-01],\n",
       "       [1.03096828e-01],\n",
       "       [4.06527817e-02],\n",
       "       [3.65880318e-03],\n",
       "       [1.32322190e-02],\n",
       "       [1.39675923e-02],\n",
       "       [3.62590863e-03],\n",
       "       [2.67062522e-02],\n",
       "       [1.73910335e-02],\n",
       "       [2.96922158e-02],\n",
       "       [2.61278510e-01],\n",
       "       [3.95942945e-03],\n",
       "       [6.85258210e-03],\n",
       "       [7.15576890e-14],\n",
       "       [1.92597564e-02],\n",
       "       [5.21730959e-01],\n",
       "       [1.85051203e-01],\n",
       "       [6.78634644e-02],\n",
       "       [5.30172229e-01],\n",
       "       [1.30639300e-01],\n",
       "       [7.27249265e-01],\n",
       "       [5.03872216e-01],\n",
       "       [9.05889496e-02],\n",
       "       [6.62864566e-01],\n",
       "       [6.77033467e-03],\n",
       "       [1.98524687e-02],\n",
       "       [4.22877166e-03],\n",
       "       [1.92048103e-01],\n",
       "       [2.46220201e-01],\n",
       "       [2.37730041e-01],\n",
       "       [1.08994149e-01],\n",
       "       [3.22678164e-02],\n",
       "       [1.96601927e-01],\n",
       "       [1.51438445e-01],\n",
       "       [9.99897197e-02],\n",
       "       [1.02379033e-02],\n",
       "       [2.40322486e-01],\n",
       "       [1.68054864e-01],\n",
       "       [5.67992747e-01],\n",
       "       [3.02436985e-02],\n",
       "       [2.68035084e-02],\n",
       "       [1.44758113e-02],\n",
       "       [1.78667195e-02],\n",
       "       [3.38384598e-01],\n",
       "       [1.90588415e-01],\n",
       "       [6.25495240e-03],\n",
       "       [1.40386177e-02],\n",
       "       [4.28233780e-02],\n",
       "       [3.45341742e-01],\n",
       "       [1.90632138e-02],\n",
       "       [2.88115442e-02],\n",
       "       [3.35050141e-03],\n",
       "       [3.46688763e-03],\n",
       "       [9.01110396e-02],\n",
       "       [1.15580680e-02],\n",
       "       [4.91393218e-03],\n",
       "       [6.22936990e-03],\n",
       "       [2.33335011e-02],\n",
       "       [3.62691015e-01],\n",
       "       [3.30345659e-03],\n",
       "       [1.08033745e-02],\n",
       "       [9.42097884e-03],\n",
       "       [7.25010922e-03],\n",
       "       [9.24184769e-02],\n",
       "       [1.52433366e-01],\n",
       "       [1.23058558e-02],\n",
       "       [9.94314812e-03],\n",
       "       [3.88957523e-02],\n",
       "       [5.04304804e-02],\n",
       "       [2.67119557e-01],\n",
       "       [3.39783579e-01],\n",
       "       [2.98984826e-01],\n",
       "       [6.20382071e-01],\n",
       "       [4.23999084e-03],\n",
       "       [4.50450834e-03],\n",
       "       [2.84881592e-02],\n",
       "       [4.00338739e-01],\n",
       "       [5.25841257e-03],\n",
       "       [7.03304866e-03],\n",
       "       [8.73560190e-01],\n",
       "       [1.78504005e-01],\n",
       "       [4.00569849e-03],\n",
       "       [3.68634552e-01],\n",
       "       [1.24000415e-01],\n",
       "       [7.00143203e-02],\n",
       "       [4.84460592e-02],\n",
       "       [4.31503832e-01],\n",
       "       [2.28421956e-01],\n",
       "       [3.47841442e-01],\n",
       "       [3.08858126e-01],\n",
       "       [7.85477310e-02],\n",
       "       [4.06500325e-02],\n",
       "       [5.20052155e-03],\n",
       "       [4.36045378e-02],\n",
       "       [1.19244913e-02],\n",
       "       [2.71887898e-01],\n",
       "       [6.13089651e-03],\n",
       "       [8.93086255e-01],\n",
       "       [1.09074295e-01],\n",
       "       [6.18212596e-02],\n",
       "       [7.78769609e-03],\n",
       "       [4.71092481e-03],\n",
       "       [1.38588238e-03],\n",
       "       [1.23578362e-01],\n",
       "       [6.76361099e-03],\n",
       "       [1.35958614e-02],\n",
       "       [6.57375902e-03],\n",
       "       [9.66743100e-03],\n",
       "       [1.04289725e-02],\n",
       "       [1.85664482e-02],\n",
       "       [6.62273262e-03],\n",
       "       [7.08190911e-03],\n",
       "       [2.31236726e-01],\n",
       "       [2.95129400e-02],\n",
       "       [2.06387732e-02],\n",
       "       [2.43054181e-02],\n",
       "       [2.09269319e-02],\n",
       "       [3.06681097e-01],\n",
       "       [1.96852125e-02],\n",
       "       [4.56479611e-03],\n",
       "       [1.82352010e-02],\n",
       "       [1.46710491e-02],\n",
       "       [1.07204147e-01],\n",
       "       [5.52399689e-03],\n",
       "       [4.64051357e-03],\n",
       "       [4.57683593e-01],\n",
       "       [6.01314195e-03],\n",
       "       [7.30958418e-04],\n",
       "       [7.42978632e-01],\n",
       "       [3.61086824e-03],\n",
       "       [4.43069125e-03],\n",
       "       [3.70461191e-03],\n",
       "       [6.49668509e-03],\n",
       "       [7.47151254e-03],\n",
       "       [1.42150223e-01],\n",
       "       [1.54639529e-02],\n",
       "       [1.03612710e-02],\n",
       "       [9.81114153e-03],\n",
       "       [1.64072275e-01],\n",
       "       [1.34676415e-02],\n",
       "       [6.19659480e-03],\n",
       "       [3.83424431e-01],\n",
       "       [1.61317125e-01],\n",
       "       [5.90573344e-03],\n",
       "       [5.75939985e-03],\n",
       "       [9.73839406e-03],\n",
       "       [7.09988642e-03],\n",
       "       [6.72065886e-03],\n",
       "       [1.16976008e-01],\n",
       "       [8.79185617e-01],\n",
       "       [1.18624903e-02],\n",
       "       [4.59304340e-02],\n",
       "       [7.40050152e-02],\n",
       "       [2.73557454e-02],\n",
       "       [3.49390507e-02],\n",
       "       [2.35146850e-01],\n",
       "       [1.57188296e-01],\n",
       "       [7.72697330e-01],\n",
       "       [1.74642690e-02],\n",
       "       [1.82793438e-01],\n",
       "       [5.23225330e-02],\n",
       "       [5.16301580e-02],\n",
       "       [3.57046700e-03],\n",
       "       [8.55254292e-01],\n",
       "       [1.99268892e-01],\n",
       "       [9.13430378e-03],\n",
       "       [1.97245702e-01],\n",
       "       [1.76657200e-01],\n",
       "       [1.89235866e-01],\n",
       "       [1.05316401e-01],\n",
       "       [5.52404672e-03],\n",
       "       [7.23712802e-01],\n",
       "       [9.80578829e-03],\n",
       "       [1.30879814e-02],\n",
       "       [4.93539730e-03],\n",
       "       [9.34456941e-03],\n",
       "       [3.72469664e-01],\n",
       "       [9.64026868e-01],\n",
       "       [1.01996914e-01],\n",
       "       [7.63690948e-01],\n",
       "       [5.23138465e-03],\n",
       "       [5.05010318e-03],\n",
       "       [2.47307271e-02],\n",
       "       [3.40620995e-01],\n",
       "       [6.96609840e-02],\n",
       "       [1.04709581e-01],\n",
       "       [3.66662852e-02],\n",
       "       [6.43111253e-03],\n",
       "       [1.29763698e-02],\n",
       "       [3.37049589e-02],\n",
       "       [2.20114160e-02],\n",
       "       [8.72570183e-03],\n",
       "       [1.68345973e-01],\n",
       "       [5.29346755e-03],\n",
       "       [1.09831356e-02],\n",
       "       [6.60033710e-03],\n",
       "       [1.92968503e-01],\n",
       "       [7.71772042e-02],\n",
       "       [6.45045936e-01],\n",
       "       [6.00235343e-01],\n",
       "       [3.12894523e-01],\n",
       "       [9.00272727e-01],\n",
       "       [7.71004930e-02],\n",
       "       [2.08136767e-01],\n",
       "       [5.85416052e-03],\n",
       "       [5.45156479e-01],\n",
       "       [3.51235904e-02],\n",
       "       [2.73472313e-02],\n",
       "       [1.52362823e-01],\n",
       "       [3.08715433e-01],\n",
       "       [8.82523786e-03],\n",
       "       [1.94879115e-01],\n",
       "       [4.10190701e-01],\n",
       "       [3.65304291e-01],\n",
       "       [9.22809988e-02],\n",
       "       [1.39987826e-01],\n",
       "       [3.08344085e-02],\n",
       "       [8.12131763e-01],\n",
       "       [7.53628433e-01],\n",
       "       [5.23027301e-01],\n",
       "       [5.92714429e-01],\n",
       "       [2.14327052e-01],\n",
       "       [3.06775451e-01],\n",
       "       [5.07896185e-01],\n",
       "       [2.34743476e-01],\n",
       "       [9.99477327e-01],\n",
       "       [1.47171423e-01],\n",
       "       [9.81884301e-01],\n",
       "       [2.84169763e-01],\n",
       "       [1.89885199e-01],\n",
       "       [9.89504099e-01],\n",
       "       [9.93907928e-01],\n",
       "       [1.08662605e-01],\n",
       "       [9.78416443e-01],\n",
       "       [9.92664397e-01],\n",
       "       [9.95466709e-01],\n",
       "       [6.27059698e-01],\n",
       "       [8.42959285e-01],\n",
       "       [9.37993884e-01],\n",
       "       [9.23314154e-01],\n",
       "       [8.86654019e-01],\n",
       "       [1.59783527e-01],\n",
       "       [9.06895280e-01],\n",
       "       [9.45225954e-01],\n",
       "       [1.48161471e-01],\n",
       "       [4.47302014e-01],\n",
       "       [6.27483010e-01],\n",
       "       [6.03752732e-02],\n",
       "       [8.22115779e-01],\n",
       "       [9.96691346e-01],\n",
       "       [4.32276100e-01],\n",
       "       [9.99977946e-01],\n",
       "       [5.82894623e-01],\n",
       "       [6.74697042e-01],\n",
       "       [3.61446947e-01],\n",
       "       [9.26295817e-01],\n",
       "       [9.50538874e-01],\n",
       "       [1.99715301e-01],\n",
       "       [9.83105600e-01],\n",
       "       [7.03442872e-01],\n",
       "       [7.95273602e-01],\n",
       "       [6.40611053e-01],\n",
       "       [9.46491480e-01],\n",
       "       [2.73172379e-01],\n",
       "       [3.54872435e-01],\n",
       "       [1.67796031e-01],\n",
       "       [1.16447300e-01],\n",
       "       [9.84548450e-01],\n",
       "       [5.73633134e-01],\n",
       "       [9.79320168e-01],\n",
       "       [4.14182693e-01],\n",
       "       [8.06801498e-01],\n",
       "       [5.32444119e-01],\n",
       "       [2.75138140e-01],\n",
       "       [4.47508335e-01],\n",
       "       [9.99249637e-01],\n",
       "       [9.98312831e-01],\n",
       "       [8.53203475e-01],\n",
       "       [2.75373757e-02],\n",
       "       [2.21313369e-02],\n",
       "       [8.16163003e-01],\n",
       "       [6.20890498e-01],\n",
       "       [4.04170215e-01],\n",
       "       [4.93734665e-02],\n",
       "       [6.65265918e-02],\n",
       "       [8.61407459e-01],\n",
       "       [1.00797661e-01],\n",
       "       [5.28441429e-01],\n",
       "       [5.33780575e-01],\n",
       "       [9.99992847e-01],\n",
       "       [8.41796815e-01],\n",
       "       [8.25277388e-01],\n",
       "       [8.11900556e-01],\n",
       "       [9.57568645e-01],\n",
       "       [9.88976777e-01],\n",
       "       [1.45777240e-01],\n",
       "       [6.61141202e-02],\n",
       "       [2.37927213e-02],\n",
       "       [6.75909579e-01],\n",
       "       [6.61207736e-01],\n",
       "       [4.88667220e-01],\n",
       "       [6.50862157e-01],\n",
       "       [1.07484013e-01],\n",
       "       [9.03202116e-01],\n",
       "       [9.83249843e-01],\n",
       "       [9.85834658e-01],\n",
       "       [8.31731141e-01],\n",
       "       [3.53966981e-01],\n",
       "       [7.74489880e-01],\n",
       "       [4.68732119e-01],\n",
       "       [1.93102211e-01],\n",
       "       [2.36931100e-01],\n",
       "       [1.13808043e-01],\n",
       "       [9.99916553e-01],\n",
       "       [5.10767877e-01],\n",
       "       [8.31033289e-01],\n",
       "       [9.99295115e-01],\n",
       "       [8.20911229e-01],\n",
       "       [6.37214601e-01],\n",
       "       [2.02839240e-01],\n",
       "       [2.41549104e-01],\n",
       "       [9.61835206e-01],\n",
       "       [9.94957507e-01],\n",
       "       [6.27731383e-01],\n",
       "       [9.99997973e-01],\n",
       "       [9.49037075e-01],\n",
       "       [4.49167103e-01],\n",
       "       [9.65938866e-01],\n",
       "       [8.47648442e-01],\n",
       "       [3.82100284e-01],\n",
       "       [4.44783032e-01],\n",
       "       [8.68072689e-01],\n",
       "       [7.83948064e-01],\n",
       "       [7.27565646e-01],\n",
       "       [9.77285028e-01],\n",
       "       [7.79286087e-01],\n",
       "       [9.45429206e-01],\n",
       "       [9.14482236e-01],\n",
       "       [7.16527849e-02],\n",
       "       [3.22711468e-01],\n",
       "       [9.99998808e-01],\n",
       "       [6.42908096e-01],\n",
       "       [4.37082767e-01],\n",
       "       [4.54127610e-01],\n",
       "       [9.16431487e-01],\n",
       "       [3.40232611e-01],\n",
       "       [2.24014252e-01],\n",
       "       [9.58827555e-01],\n",
       "       [1.00000000e+00],\n",
       "       [4.88126487e-01],\n",
       "       [9.88338053e-01],\n",
       "       [6.76959813e-01],\n",
       "       [6.39251947e-01],\n",
       "       [6.29250184e-02],\n",
       "       [8.03448498e-01],\n",
       "       [9.96093214e-01],\n",
       "       [9.69197750e-01],\n",
       "       [9.26328719e-01],\n",
       "       [8.85224521e-01],\n",
       "       [1.22000501e-01],\n",
       "       [1.65768787e-01],\n",
       "       [9.93186235e-01],\n",
       "       [9.83928919e-01],\n",
       "       [8.71182203e-01],\n",
       "       [1.31383300e-01],\n",
       "       [1.81475729e-01],\n",
       "       [8.76158178e-01],\n",
       "       [2.84917623e-01],\n",
       "       [9.85407114e-01],\n",
       "       [9.63646472e-01],\n",
       "       [3.73344779e-01],\n",
       "       [9.99652743e-01],\n",
       "       [8.06162298e-01],\n",
       "       [1.10977784e-01],\n",
       "       [9.67584252e-01],\n",
       "       [5.50086141e-01],\n",
       "       [9.28191841e-01],\n",
       "       [4.46659237e-01],\n",
       "       [7.17213452e-01],\n",
       "       [8.84500742e-02],\n",
       "       [6.59670234e-01],\n",
       "       [1.00000000e+00],\n",
       "       [9.98311520e-01],\n",
       "       [9.43609893e-01],\n",
       "       [9.95598555e-01],\n",
       "       [9.96226668e-01],\n",
       "       [9.87447798e-01],\n",
       "       [1.33206248e-01],\n",
       "       [6.63318396e-01],\n",
       "       [9.97348070e-01],\n",
       "       [6.92118287e-01],\n",
       "       [7.17815697e-01],\n",
       "       [4.51623768e-01],\n",
       "       [1.46565109e-01],\n",
       "       [2.55198985e-01],\n",
       "       [7.21312106e-01],\n",
       "       [3.72250736e-01],\n",
       "       [5.74768901e-01],\n",
       "       [7.33608246e-01],\n",
       "       [4.46161509e-01],\n",
       "       [9.61923838e-01],\n",
       "       [9.99977469e-01],\n",
       "       [3.06654125e-01],\n",
       "       [9.16117966e-01],\n",
       "       [8.79701197e-01],\n",
       "       [2.17815906e-01],\n",
       "       [7.31517732e-01],\n",
       "       [9.72892284e-01],\n",
       "       [9.99998927e-01],\n",
       "       [8.26927245e-01],\n",
       "       [7.36499965e-01],\n",
       "       [8.77999365e-01],\n",
       "       [6.11934662e-01],\n",
       "       [4.45440769e-01],\n",
       "       [8.55541527e-02],\n",
       "       [7.55701602e-01],\n",
       "       [8.47831607e-01],\n",
       "       [9.60577965e-01],\n",
       "       [9.22493637e-01],\n",
       "       [9.90671396e-01],\n",
       "       [9.41639841e-01],\n",
       "       [9.96713161e-01],\n",
       "       [1.00000000e+00],\n",
       "       [8.95623490e-02],\n",
       "       [7.03156590e-01],\n",
       "       [9.81497407e-01],\n",
       "       [1.00000000e+00],\n",
       "       [1.14722095e-01],\n",
       "       [3.49412233e-01],\n",
       "       [1.92396894e-01],\n",
       "       [2.70897359e-01],\n",
       "       [4.20222402e-01],\n",
       "       [1.49862409e-01],\n",
       "       [4.52150315e-01],\n",
       "       [5.03244281e-01],\n",
       "       [9.12768781e-01],\n",
       "       [3.70687306e-01],\n",
       "       [8.30817103e-01],\n",
       "       [7.55273998e-01],\n",
       "       [3.98242176e-01],\n",
       "       [9.84054625e-01],\n",
       "       [9.99775589e-01],\n",
       "       [6.01489544e-01],\n",
       "       [5.85602701e-01],\n",
       "       [6.02722347e-01],\n",
       "       [8.56679976e-01],\n",
       "       [9.97879028e-01],\n",
       "       [2.02322647e-01],\n",
       "       [9.08299387e-01],\n",
       "       [8.99589062e-01],\n",
       "       [3.80941033e-01],\n",
       "       [6.85446441e-01],\n",
       "       [8.49084914e-01],\n",
       "       [1.90042943e-01],\n",
       "       [7.99788713e-01],\n",
       "       [1.40134394e-01],\n",
       "       [4.21258926e-01],\n",
       "       [9.33462381e-01],\n",
       "       [8.93759251e-01],\n",
       "       [5.61556637e-01],\n",
       "       [4.40466136e-01],\n",
       "       [7.42458701e-02],\n",
       "       [5.61003149e-01],\n",
       "       [9.97571647e-01],\n",
       "       [8.62728894e-01],\n",
       "       [9.97363985e-01],\n",
       "       [8.05976629e-01],\n",
       "       [7.02339470e-01],\n",
       "       [9.26482916e-01],\n",
       "       [4.39868271e-01],\n",
       "       [9.98228371e-01],\n",
       "       [5.33334672e-01],\n",
       "       [8.02030206e-01],\n",
       "       [7.37107277e-01],\n",
       "       [9.99875188e-01],\n",
       "       [2.13920712e-01],\n",
       "       [2.10385025e-01],\n",
       "       [3.31407577e-01],\n",
       "       [8.78242791e-01],\n",
       "       [5.29757440e-01],\n",
       "       [2.49480799e-01],\n",
       "       [5.20966947e-01],\n",
       "       [2.59502232e-01],\n",
       "       [6.08762026e-01],\n",
       "       [5.83927989e-01],\n",
       "       [8.45648229e-01],\n",
       "       [8.54080319e-01],\n",
       "       [4.83955175e-01],\n",
       "       [4.02294338e-01],\n",
       "       [7.63082087e-01],\n",
       "       [9.83640492e-01],\n",
       "       [9.74291623e-01],\n",
       "       [9.99996543e-01],\n",
       "       [3.00193608e-01],\n",
       "       [1.84330910e-01],\n",
       "       [4.00628656e-01],\n",
       "       [9.49001431e-01],\n",
       "       [7.33031452e-01],\n",
       "       [2.65578516e-02],\n",
       "       [1.35033131e-01],\n",
       "       [9.98386621e-01],\n",
       "       [4.16508555e-01],\n",
       "       [6.62782192e-01],\n",
       "       [1.33750796e-01],\n",
       "       [9.59944546e-01],\n",
       "       [6.84859931e-01],\n",
       "       [6.76346362e-01],\n",
       "       [9.94274676e-01],\n",
       "       [9.99740541e-01],\n",
       "       [9.82002139e-01],\n",
       "       [5.10290623e-01],\n",
       "       [9.96098757e-01],\n",
       "       [9.99924779e-01],\n",
       "       [7.05181897e-01],\n",
       "       [9.87974763e-01],\n",
       "       [8.46694231e-01],\n",
       "       [9.99534369e-01],\n",
       "       [4.06957567e-01],\n",
       "       [5.32139391e-02],\n",
       "       [1.04139082e-01],\n",
       "       [4.18862253e-01],\n",
       "       [5.30517817e-01],\n",
       "       [1.46781892e-01],\n",
       "       [5.52219391e-01],\n",
       "       [9.98238564e-01],\n",
       "       [1.29119800e-02],\n",
       "       [5.79062521e-01],\n",
       "       [2.47713864e-01],\n",
       "       [1.08174905e-01],\n",
       "       [5.16953990e-02],\n",
       "       [5.45113981e-01],\n",
       "       [1.41863912e-01],\n",
       "       [8.71961534e-01],\n",
       "       [8.21740627e-01],\n",
       "       [9.27641451e-01],\n",
       "       [1.39050484e-01],\n",
       "       [9.37359571e-01],\n",
       "       [1.47812814e-01],\n",
       "       [6.00317895e-01],\n",
       "       [9.96099234e-01],\n",
       "       [2.53075540e-01],\n",
       "       [8.75773668e-01],\n",
       "       [9.41263497e-01],\n",
       "       [6.09664083e-01],\n",
       "       [1.49446175e-01],\n",
       "       [4.24236566e-01],\n",
       "       [4.65069801e-01],\n",
       "       [1.52927354e-01],\n",
       "       [9.97627079e-01],\n",
       "       [9.99873042e-01],\n",
       "       [9.78587568e-01],\n",
       "       [9.87279415e-01],\n",
       "       [9.96654391e-01],\n",
       "       [9.00444627e-01],\n",
       "       [1.00000000e+00],\n",
       "       [5.77990413e-02],\n",
       "       [9.94158983e-01],\n",
       "       [9.84463573e-01],\n",
       "       [9.91912484e-01],\n",
       "       [9.98344779e-01],\n",
       "       [3.60966712e-01],\n",
       "       [6.70864463e-01],\n",
       "       [9.99999762e-01],\n",
       "       [7.63109922e-01],\n",
       "       [9.81449723e-01],\n",
       "       [7.15783596e-01],\n",
       "       [9.62517023e-01],\n",
       "       [9.97830689e-01],\n",
       "       [5.38843572e-01],\n",
       "       [9.94713008e-01],\n",
       "       [8.66205454e-01],\n",
       "       [5.53042829e-01],\n",
       "       [9.40201342e-01],\n",
       "       [3.61444175e-01],\n",
       "       [7.22400844e-01],\n",
       "       [8.35067749e-01],\n",
       "       [7.65286326e-01],\n",
       "       [9.02341008e-01],\n",
       "       [1.66865736e-02],\n",
       "       [6.09936953e-01],\n",
       "       [9.99998093e-01],\n",
       "       [9.40279961e-01],\n",
       "       [6.04780495e-01],\n",
       "       [1.67725399e-01],\n",
       "       [9.99240279e-01],\n",
       "       [4.15452123e-01],\n",
       "       [9.95439589e-01],\n",
       "       [8.02860081e-01],\n",
       "       [3.41689765e-01],\n",
       "       [9.99952435e-01],\n",
       "       [9.74290609e-01],\n",
       "       [9.77799237e-01],\n",
       "       [9.86937761e-01],\n",
       "       [9.99819219e-01],\n",
       "       [6.49527133e-01],\n",
       "       [2.02174425e-01],\n",
       "       [9.87793148e-01],\n",
       "       [5.33091009e-01],\n",
       "       [9.99999881e-01],\n",
       "       [9.85944927e-01],\n",
       "       [9.55612898e-01],\n",
       "       [8.86958539e-01],\n",
       "       [9.72012162e-01],\n",
       "       [9.89151597e-01],\n",
       "       [8.20999563e-01],\n",
       "       [3.24018449e-01],\n",
       "       [4.66126986e-02],\n",
       "       [5.39548337e-01],\n",
       "       [7.51687765e-01],\n",
       "       [8.33283365e-01],\n",
       "       [8.66763830e-01],\n",
       "       [8.94767463e-01],\n",
       "       [5.96603394e-01],\n",
       "       [5.01161039e-01],\n",
       "       [8.38528648e-02],\n",
       "       [6.66677475e-01],\n",
       "       [6.29147530e-01],\n",
       "       [1.19965419e-01],\n",
       "       [5.81701577e-01],\n",
       "       [9.99171138e-01],\n",
       "       [5.54130435e-01],\n",
       "       [9.98113751e-01],\n",
       "       [4.35846478e-01],\n",
       "       [9.78676617e-01],\n",
       "       [6.35149240e-01],\n",
       "       [9.87105727e-01],\n",
       "       [3.73395503e-01],\n",
       "       [9.71281171e-01],\n",
       "       [6.75321400e-01],\n",
       "       [5.76097786e-01],\n",
       "       [7.83064723e-01],\n",
       "       [9.99904275e-01],\n",
       "       [9.83933747e-01],\n",
       "       [4.06514138e-01],\n",
       "       [2.35924661e-01],\n",
       "       [5.74099422e-01],\n",
       "       [1.47297218e-01],\n",
       "       [9.16015923e-01],\n",
       "       [2.27810264e-01],\n",
       "       [3.04330915e-01],\n",
       "       [9.99957323e-01],\n",
       "       [9.91842598e-02],\n",
       "       [7.65539229e-01],\n",
       "       [9.43454206e-01],\n",
       "       [1.27721712e-01],\n",
       "       [9.97933030e-01],\n",
       "       [7.12424934e-01],\n",
       "       [4.43175763e-01],\n",
       "       [9.99426961e-01],\n",
       "       [9.61392939e-01],\n",
       "       [1.60093591e-01],\n",
       "       [1.34119600e-01],\n",
       "       [1.86949790e-01],\n",
       "       [9.78205800e-01],\n",
       "       [7.90358007e-01],\n",
       "       [9.19070065e-01],\n",
       "       [8.98280919e-01],\n",
       "       [9.48230445e-01],\n",
       "       [9.80110168e-01],\n",
       "       [3.66857141e-01],\n",
       "       [3.55259240e-01],\n",
       "       [7.55561113e-01],\n",
       "       [9.22240794e-01],\n",
       "       [2.28785053e-01],\n",
       "       [9.66371357e-01],\n",
       "       [4.42823201e-01],\n",
       "       [4.92183641e-02],\n",
       "       [9.61434662e-01],\n",
       "       [6.25464976e-01],\n",
       "       [8.39921057e-01],\n",
       "       [6.05036318e-01],\n",
       "       [8.36921930e-01],\n",
       "       [6.38113692e-02],\n",
       "       [2.16666237e-01],\n",
       "       [8.93779933e-01],\n",
       "       [6.74566448e-01],\n",
       "       [1.00000000e+00],\n",
       "       [3.08344085e-02],\n",
       "       [9.89912570e-01],\n",
       "       [7.63481140e-01],\n",
       "       [8.71996701e-01],\n",
       "       [4.87620741e-01],\n",
       "       [8.28819990e-01],\n",
       "       [8.91575396e-01],\n",
       "       [9.01793718e-01],\n",
       "       [9.99891281e-01],\n",
       "       [2.28581741e-01],\n",
       "       [6.48401439e-01],\n",
       "       [9.38603282e-01],\n",
       "       [6.41119421e-01],\n",
       "       [2.43219852e-01],\n",
       "       [7.55219102e-01],\n",
       "       [6.13672256e-01],\n",
       "       [8.37026596e-01],\n",
       "       [9.62818146e-01],\n",
       "       [2.17854142e-01],\n",
       "       [9.70866859e-01],\n",
       "       [1.93442151e-01],\n",
       "       [8.45284879e-01],\n",
       "       [6.29392564e-01],\n",
       "       [1.24162868e-01],\n",
       "       [9.20483768e-01],\n",
       "       [5.59176803e-01],\n",
       "       [9.91314352e-01],\n",
       "       [3.54627728e-01],\n",
       "       [2.92380244e-01],\n",
       "       [9.41094756e-01],\n",
       "       [9.95427132e-01],\n",
       "       [2.73529738e-01],\n",
       "       [9.89920974e-01],\n",
       "       [3.35914135e-01],\n",
       "       [7.11852670e-01],\n",
       "       [9.99473512e-01],\n",
       "       [7.16527700e-02],\n",
       "       [2.78024137e-01],\n",
       "       [8.45402718e-01]], dtype=float32)"
      ]
     },
     "execution_count": 26,
     "metadata": {},
     "output_type": "execute_result"
    }
   ],
   "source": [
    "class_model.predict(batch_x)"
   ]
  },
  {
   "cell_type": "code",
   "execution_count": 27,
   "metadata": {
    "execution": {
     "iopub.execute_input": "2021-03-31T13:05:28.092290Z",
     "iopub.status.busy": "2021-03-31T13:05:28.091493Z",
     "iopub.status.idle": "2021-03-31T13:05:28.097142Z",
     "shell.execute_reply": "2021-03-31T13:05:28.097809Z"
    },
    "papermill": {
     "duration": 0.080007,
     "end_time": "2021-03-31T13:05:28.097945",
     "exception": false,
     "start_time": "2021-03-31T13:05:28.017938",
     "status": "completed"
    },
    "tags": []
   },
   "outputs": [],
   "source": [
    "final_model = tf.keras.Sequential()\n",
    "final_model.add(class_model)\n",
    "final_model.add(SigmoidToSoftmax())"
   ]
  },
  {
   "cell_type": "code",
   "execution_count": 28,
   "metadata": {
    "execution": {
     "iopub.execute_input": "2021-03-31T13:05:28.772845Z",
     "iopub.status.busy": "2021-03-31T13:05:28.771983Z",
     "iopub.status.idle": "2021-03-31T13:05:29.479685Z",
     "shell.execute_reply": "2021-03-31T13:05:29.478229Z"
    },
    "papermill": {
     "duration": 1.320492,
     "end_time": "2021-03-31T13:05:29.479823",
     "exception": false,
     "start_time": "2021-03-31T13:05:28.159331",
     "status": "completed"
    },
    "tags": []
   },
   "outputs": [],
   "source": [
    "output = final_model.predict(batch_x)"
   ]
  },
  {
   "cell_type": "code",
   "execution_count": 29,
   "metadata": {
    "execution": {
     "iopub.execute_input": "2021-03-31T13:05:29.561958Z",
     "iopub.status.busy": "2021-03-31T13:05:29.561342Z",
     "iopub.status.idle": "2021-03-31T13:05:29.564672Z",
     "shell.execute_reply": "2021-03-31T13:05:29.565060Z"
    },
    "papermill": {
     "duration": 0.047091,
     "end_time": "2021-03-31T13:05:29.565184",
     "exception": false,
     "start_time": "2021-03-31T13:05:29.518093",
     "status": "completed"
    },
    "tags": []
   },
   "outputs": [
    {
     "data": {
      "text/plain": [
       "array([[0.9958749 , 0.00412509],\n",
       "       [0.5954116 , 0.4045884 ],\n",
       "       [0.99681896, 0.00318105],\n",
       "       ...,\n",
       "       [0.92834723, 0.07165277],\n",
       "       [0.72197586, 0.27802414],\n",
       "       [0.15459728, 0.8454027 ]], dtype=float32)"
      ]
     },
     "execution_count": 29,
     "metadata": {},
     "output_type": "execute_result"
    }
   ],
   "source": [
    "output"
   ]
  },
  {
   "cell_type": "code",
   "execution_count": 30,
   "metadata": {
    "execution": {
     "iopub.execute_input": "2021-03-31T13:05:29.647948Z",
     "iopub.status.busy": "2021-03-31T13:05:29.647171Z",
     "iopub.status.idle": "2021-03-31T13:05:29.653524Z",
     "shell.execute_reply": "2021-03-31T13:05:29.652935Z"
    },
    "papermill": {
     "duration": 0.049934,
     "end_time": "2021-03-31T13:05:29.653669",
     "exception": false,
     "start_time": "2021-03-31T13:05:29.603735",
     "status": "completed"
    },
    "tags": []
   },
   "outputs": [
    {
     "name": "stdout",
     "output_type": "stream",
     "text": [
      "Model: \"sequential_4\"\n",
      "_________________________________________________________________\n",
      "Layer (type)                 Output Shape              Param #   \n",
      "=================================================================\n",
      "sequential_2 (Sequential)    (None, 1)                 3546713   \n",
      "_________________________________________________________________\n",
      "sigmoid_to_softmax_1 (Sigmoi (None, 2)                 1         \n",
      "=================================================================\n",
      "Total params: 3,546,714\n",
      "Trainable params: 3,546,210\n",
      "Non-trainable params: 504\n",
      "_________________________________________________________________\n"
     ]
    }
   ],
   "source": [
    "final_model.summary()"
   ]
  },
  {
   "cell_type": "code",
   "execution_count": 31,
   "metadata": {
    "execution": {
     "iopub.execute_input": "2021-03-31T13:05:29.734019Z",
     "iopub.status.busy": "2021-03-31T13:05:29.733530Z",
     "iopub.status.idle": "2021-03-31T13:05:29.736704Z",
     "shell.execute_reply": "2021-03-31T13:05:29.737524Z"
    },
    "papermill": {
     "duration": 0.045318,
     "end_time": "2021-03-31T13:05:29.737653",
     "exception": false,
     "start_time": "2021-03-31T13:05:29.692335",
     "status": "completed"
    },
    "tags": []
   },
   "outputs": [],
   "source": [
    "preds = np.argmax(output, axis=-1)"
   ]
  },
  {
   "cell_type": "code",
   "execution_count": 32,
   "metadata": {
    "execution": {
     "iopub.execute_input": "2021-03-31T13:05:29.822492Z",
     "iopub.status.busy": "2021-03-31T13:05:29.821577Z",
     "iopub.status.idle": "2021-03-31T13:05:29.824869Z",
     "shell.execute_reply": "2021-03-31T13:05:29.825276Z"
    },
    "papermill": {
     "duration": 0.049266,
     "end_time": "2021-03-31T13:05:29.825392",
     "exception": false,
     "start_time": "2021-03-31T13:05:29.776126",
     "status": "completed"
    },
    "tags": []
   },
   "outputs": [
    {
     "data": {
      "text/plain": [
       "array([0, 0, 0, 0, 0, 0, 0, 0, 0, 0, 1, 1, 0, 0, 0, 1, 0, 1, 0, 0, 1, 0,\n",
       "       0, 0, 0, 1, 0, 0, 0, 0, 0, 0, 0, 0, 0, 0, 0, 0, 0, 0, 0, 0, 1, 0,\n",
       "       0, 0, 0, 0, 0, 0, 0, 0, 1, 0, 1, 0, 0, 0, 0, 0, 0, 0, 0, 0, 0, 0,\n",
       "       0, 0, 0, 0, 0, 0, 0, 0, 0, 0, 1, 0, 0, 0, 0, 0, 0, 0, 0, 0, 0, 0,\n",
       "       0, 0, 1, 0, 1, 0, 0, 1, 0, 0, 0, 0, 0, 0, 0, 0, 0, 0, 0, 0, 0, 0,\n",
       "       1, 0, 0, 0, 0, 0, 0, 0, 1, 0, 0, 0, 0, 1, 0, 1, 0, 0, 0, 0, 0, 0,\n",
       "       0, 0, 0, 0, 0, 0, 0, 0, 0, 0, 0, 1, 0, 0, 0, 0, 0, 0, 1, 1, 0, 0,\n",
       "       0, 0, 0, 0, 0, 0, 0, 0, 0, 0, 0, 0, 0, 0, 0, 1, 0, 0, 0, 0, 0, 0,\n",
       "       0, 0, 0, 0, 0, 0, 0, 0, 0, 0, 0, 0, 0, 0, 0, 1, 0, 0, 0, 1, 1, 0,\n",
       "       0, 0, 0, 0, 0, 0, 0, 0, 0, 0, 0, 0, 0, 0, 1, 0, 1, 0, 0, 0, 0, 0,\n",
       "       0, 1, 0, 0, 0, 0, 0, 0, 0, 0, 1, 0, 0, 0, 0, 0, 1, 0, 0, 0, 0, 1,\n",
       "       0, 0, 0, 0, 1, 0, 0, 0, 0, 0, 0, 0, 0, 0, 0, 0, 0, 1, 0, 0, 1, 0,\n",
       "       1, 0, 0, 0, 0, 1, 0, 0, 0, 0, 0, 0, 0, 0, 0, 0, 0, 0, 0, 0, 1, 0,\n",
       "       0, 0, 0, 0, 0, 0, 0, 0, 0, 0, 0, 0, 0, 1, 0, 0, 1, 0, 1, 1, 0, 1,\n",
       "       0, 0, 0, 0, 0, 0, 0, 0, 0, 0, 0, 0, 0, 0, 1, 0, 0, 0, 0, 0, 0, 0,\n",
       "       0, 0, 0, 0, 0, 0, 0, 0, 0, 0, 0, 0, 0, 0, 0, 0, 0, 0, 0, 0, 0, 0,\n",
       "       0, 0, 0, 0, 1, 0, 0, 0, 0, 0, 0, 1, 0, 0, 0, 0, 0, 0, 0, 0, 0, 0,\n",
       "       0, 0, 0, 0, 0, 0, 0, 1, 0, 0, 0, 0, 0, 0, 0, 0, 0, 0, 0, 0, 0, 0,\n",
       "       0, 0, 0, 0, 0, 0, 0, 0, 0, 0, 0, 0, 0, 0, 0, 0, 1, 0, 0, 0, 0, 0,\n",
       "       0, 0, 0, 0, 0, 0, 0, 0, 0, 0, 0, 0, 0, 0, 0, 1, 0, 0, 0, 0, 0, 0,\n",
       "       0, 1, 0, 0, 0, 0, 0, 1, 0, 0, 0, 0, 0, 0, 0, 1, 0, 0, 0, 0, 0, 1,\n",
       "       0, 1, 0, 0, 0, 0, 0, 0, 0, 0, 0, 0, 0, 0, 0, 0, 0, 0, 0, 0, 1, 1,\n",
       "       0, 1, 0, 0, 0, 1, 0, 0, 0, 0, 0, 0, 0, 0, 0, 0, 0, 1, 1, 1, 1, 0,\n",
       "       0, 1, 0, 1, 0, 1, 0, 0, 1, 1, 0, 1, 1, 1, 1, 1, 1, 1, 1, 0, 1, 1,\n",
       "       0, 0, 1, 0, 1, 1, 0, 1, 1, 1, 0, 1, 1, 0, 1, 1, 1, 1, 1, 0, 0, 0,\n",
       "       0, 1, 1, 1, 0, 1, 1, 0, 0, 1, 1, 1, 0, 0, 1, 1, 0, 0, 0, 1, 0, 1,\n",
       "       1, 1, 1, 1, 1, 1, 1, 0, 0, 0, 1, 1, 0, 1, 0, 1, 1, 1, 1, 0, 1, 0,\n",
       "       0, 0, 0, 1, 1, 1, 1, 1, 1, 0, 0, 1, 1, 1, 1, 1, 0, 1, 1, 0, 0, 1,\n",
       "       1, 1, 1, 1, 1, 1, 0, 0, 1, 1, 0, 0, 1, 0, 0, 1, 1, 0, 1, 1, 1, 0,\n",
       "       1, 1, 1, 1, 1, 0, 0, 1, 1, 1, 0, 0, 1, 0, 1, 1, 0, 1, 1, 0, 1, 1,\n",
       "       1, 0, 1, 0, 1, 1, 1, 1, 1, 1, 1, 0, 1, 1, 1, 1, 0, 0, 0, 1, 0, 1,\n",
       "       1, 0, 1, 1, 0, 1, 1, 0, 1, 1, 1, 1, 1, 1, 1, 0, 0, 1, 1, 1, 1, 1,\n",
       "       1, 1, 1, 0, 1, 1, 1, 0, 0, 0, 0, 0, 0, 0, 1, 1, 0, 1, 1, 0, 1, 1,\n",
       "       1, 1, 1, 1, 1, 0, 1, 1, 0, 1, 1, 0, 1, 0, 0, 1, 1, 1, 0, 0, 1, 1,\n",
       "       1, 1, 1, 1, 1, 0, 1, 1, 1, 1, 1, 0, 0, 0, 1, 1, 0, 1, 0, 1, 1, 1,\n",
       "       1, 0, 0, 1, 1, 1, 1, 0, 0, 0, 1, 1, 0, 0, 1, 0, 1, 0, 1, 1, 1, 1,\n",
       "       1, 1, 1, 1, 1, 1, 1, 1, 1, 0, 0, 0, 0, 1, 0, 1, 1, 0, 1, 0, 0, 0,\n",
       "       1, 0, 1, 1, 1, 0, 1, 0, 1, 1, 0, 1, 1, 1, 0, 0, 0, 0, 1, 1, 1, 1,\n",
       "       1, 1, 1, 0, 1, 1, 1, 1, 0, 1, 1, 1, 1, 1, 1, 1, 1, 1, 1, 1, 1, 0,\n",
       "       1, 1, 1, 1, 0, 1, 1, 1, 1, 0, 1, 0, 1, 1, 0, 1, 1, 1, 1, 1, 1, 0,\n",
       "       1, 1, 1, 1, 1, 1, 1, 1, 1, 0, 0, 1, 1, 1, 1, 1, 1, 1, 0, 1, 1, 0,\n",
       "       1, 1, 1, 1, 0, 1, 1, 1, 0, 1, 1, 1, 1, 1, 1, 0, 0, 1, 0, 1, 0, 0,\n",
       "       1, 0, 1, 1, 0, 1, 1, 0, 1, 1, 0, 0, 0, 1, 1, 1, 1, 1, 1, 0, 0, 1,\n",
       "       1, 0, 1, 0, 0, 1, 1, 1, 1, 1, 0, 0, 1, 1, 1, 0, 1, 1, 1, 0, 1, 1,\n",
       "       1, 1, 0, 1, 1, 1, 0, 1, 1, 1, 1, 0, 1, 0, 1, 1, 0, 1, 1, 1, 0, 0,\n",
       "       1, 1, 0, 1, 0, 1, 1, 0, 0, 1])"
      ]
     },
     "execution_count": 32,
     "metadata": {},
     "output_type": "execute_result"
    }
   ],
   "source": [
    "preds"
   ]
  },
  {
   "cell_type": "code",
   "execution_count": 33,
   "metadata": {
    "execution": {
     "iopub.execute_input": "2021-03-31T13:05:29.908821Z",
     "iopub.status.busy": "2021-03-31T13:05:29.907096Z",
     "iopub.status.idle": "2021-03-31T13:05:29.909541Z",
     "shell.execute_reply": "2021-03-31T13:05:29.909996Z"
    },
    "papermill": {
     "duration": 0.04563,
     "end_time": "2021-03-31T13:05:29.910107",
     "exception": false,
     "start_time": "2021-03-31T13:05:29.864477",
     "status": "completed"
    },
    "tags": []
   },
   "outputs": [],
   "source": [
    "truth = [val[0] for val in batch_y]"
   ]
  },
  {
   "cell_type": "code",
   "execution_count": 34,
   "metadata": {
    "execution": {
     "iopub.execute_input": "2021-03-31T13:05:29.991296Z",
     "iopub.status.busy": "2021-03-31T13:05:29.990783Z",
     "iopub.status.idle": "2021-03-31T13:05:29.995611Z",
     "shell.execute_reply": "2021-03-31T13:05:29.995163Z"
    },
    "papermill": {
     "duration": 0.047104,
     "end_time": "2021-03-31T13:05:29.995717",
     "exception": false,
     "start_time": "2021-03-31T13:05:29.948613",
     "status": "completed"
    },
    "tags": []
   },
   "outputs": [
    {
     "data": {
      "text/plain": [
       "[1.0, 1.0, 1.0, 1.0, 1.0]"
      ]
     },
     "execution_count": 34,
     "metadata": {},
     "output_type": "execute_result"
    }
   ],
   "source": [
    "truth[-5:]"
   ]
  },
  {
   "cell_type": "code",
   "execution_count": 35,
   "metadata": {
    "execution": {
     "iopub.execute_input": "2021-03-31T13:05:30.082679Z",
     "iopub.status.busy": "2021-03-31T13:05:30.082041Z",
     "iopub.status.idle": "2021-03-31T13:05:30.086108Z",
     "shell.execute_reply": "2021-03-31T13:05:30.085528Z"
    },
    "papermill": {
     "duration": 0.051261,
     "end_time": "2021-03-31T13:05:30.086269",
     "exception": false,
     "start_time": "2021-03-31T13:05:30.035008",
     "status": "completed"
    },
    "tags": []
   },
   "outputs": [
    {
     "name": "stdout",
     "output_type": "stream",
     "text": [
      "Accuracy: 78.0\n"
     ]
    }
   ],
   "source": [
    "#check accuracy of the final_model\n",
    "correct = [1 for tru, pred in zip(truth, preds) if tru==pred]\n",
    "print(f'Accuracy: {len(correct)/len(preds) * 100}')"
   ]
  },
  {
   "cell_type": "code",
   "execution_count": 36,
   "metadata": {
    "execution": {
     "iopub.execute_input": "2021-03-31T13:05:30.170346Z",
     "iopub.status.busy": "2021-03-31T13:05:30.169735Z",
     "iopub.status.idle": "2021-03-31T13:05:30.172574Z",
     "shell.execute_reply": "2021-03-31T13:05:30.172122Z"
    },
    "papermill": {
     "duration": 0.045498,
     "end_time": "2021-03-31T13:05:30.172685",
     "exception": false,
     "start_time": "2021-03-31T13:05:30.127187",
     "status": "completed"
    },
    "tags": []
   },
   "outputs": [],
   "source": [
    "RPS_SAVED_MODEL = \"rps_saved_model\""
   ]
  },
  {
   "cell_type": "code",
   "execution_count": 37,
   "metadata": {
    "execution": {
     "iopub.execute_input": "2021-03-31T13:05:30.258008Z",
     "iopub.status.busy": "2021-03-31T13:05:30.256973Z",
     "iopub.status.idle": "2021-03-31T13:05:33.221804Z",
     "shell.execute_reply": "2021-03-31T13:05:33.221073Z"
    },
    "papermill": {
     "duration": 3.009676,
     "end_time": "2021-03-31T13:05:33.221993",
     "exception": false,
     "start_time": "2021-03-31T13:05:30.212317",
     "status": "completed"
    },
    "tags": []
   },
   "outputs": [],
   "source": [
    "tf.saved_model.save(final_model,RPS_SAVED_MODEL)"
   ]
  },
  {
   "cell_type": "code",
   "execution_count": 38,
   "metadata": {
    "execution": {
     "iopub.execute_input": "2021-03-31T13:05:33.308757Z",
     "iopub.status.busy": "2021-03-31T13:05:33.308022Z",
     "iopub.status.idle": "2021-03-31T13:05:36.155088Z",
     "shell.execute_reply": "2021-03-31T13:05:36.155526Z"
    },
    "papermill": {
     "duration": 2.891736,
     "end_time": "2021-03-31T13:05:36.155682",
     "exception": false,
     "start_time": "2021-03-31T13:05:33.263946",
     "status": "completed"
    },
    "tags": []
   },
   "outputs": [
    {
     "name": "stdout",
     "output_type": "stream",
     "text": [
      "The given SavedModel SignatureDef contains the following input(s):\n",
      "  inputs['sequential_2_input'] tensor_info:\n",
      "      dtype: DT_FLOAT\n",
      "      shape: (-1, 256, 256, 3)\n",
      "      name: serving_default_sequential_2_input:0\n",
      "The given SavedModel SignatureDef contains the following output(s):\n",
      "  outputs['sigmoid_to_softmax_1'] tensor_info:\n",
      "      dtype: DT_FLOAT\n",
      "      shape: (-1, 2)\n",
      "      name: StatefulPartitionedCall:0\n",
      "Method name is: tensorflow/serving/predict\n"
     ]
    },
    {
     "name": "stderr",
     "output_type": "stream",
     "text": [
      "2021-03-31 13:05:33.517765: I tensorflow/stream_executor/platform/default/dso_loader.cc:49] Successfully opened dynamic library libcudart.so.10.2\n",
      "2021-03-31 13:05:33.520000: I tensorflow/stream_executor/platform/default/dso_loader.cc:49] Successfully opened dynamic library libcudart.so.10.2\n"
     ]
    }
   ],
   "source": [
    "%%bash -s $RPS_SAVED_MODEL\n",
    "saved_model_cli show --dir $1 --tag_set serve --signature_def serving_default"
   ]
  },
  {
   "cell_type": "code",
   "execution_count": 39,
   "metadata": {
    "execution": {
     "iopub.execute_input": "2021-03-31T13:05:36.242797Z",
     "iopub.status.busy": "2021-03-31T13:05:36.242293Z",
     "iopub.status.idle": "2021-03-31T13:05:37.020029Z",
     "shell.execute_reply": "2021-03-31T13:05:37.019567Z"
    },
    "papermill": {
     "duration": 0.822801,
     "end_time": "2021-03-31T13:05:37.020175",
     "exception": false,
     "start_time": "2021-03-31T13:05:36.197374",
     "status": "completed"
    },
    "tags": []
   },
   "outputs": [],
   "source": [
    "loaded = tf.saved_model.load(RPS_SAVED_MODEL)"
   ]
  },
  {
   "cell_type": "code",
   "execution_count": 40,
   "metadata": {
    "execution": {
     "iopub.execute_input": "2021-03-31T13:05:37.108866Z",
     "iopub.status.busy": "2021-03-31T13:05:37.108131Z",
     "iopub.status.idle": "2021-03-31T13:05:37.112653Z",
     "shell.execute_reply": "2021-03-31T13:05:37.112220Z"
    },
    "papermill": {
     "duration": 0.049984,
     "end_time": "2021-03-31T13:05:37.112786",
     "exception": false,
     "start_time": "2021-03-31T13:05:37.062802",
     "status": "completed"
    },
    "tags": []
   },
   "outputs": [
    {
     "name": "stdout",
     "output_type": "stream",
     "text": [
      "['serving_default']\n",
      "((), {'sequential_2_input': TensorSpec(shape=(None, 256, 256, 3), dtype=tf.float32, name='sequential_2_input')})\n",
      "{'sigmoid_to_softmax_1': TensorSpec(shape=(None, 2), dtype=tf.float32, name='sigmoid_to_softmax_1')}\n"
     ]
    }
   ],
   "source": [
    "\n",
    "print(list(loaded.signatures.keys()))\n",
    "infer = loaded.signatures[\"serving_default\"]\n",
    "print(infer.structured_input_signature)\n",
    "print(infer.structured_outputs)"
   ]
  },
  {
   "cell_type": "code",
   "execution_count": 41,
   "metadata": {
    "execution": {
     "iopub.execute_input": "2021-03-31T13:05:37.200494Z",
     "iopub.status.busy": "2021-03-31T13:05:37.199742Z",
     "iopub.status.idle": "2021-03-31T13:05:38.533204Z",
     "shell.execute_reply": "2021-03-31T13:05:38.532115Z"
    },
    "papermill": {
     "duration": 1.378844,
     "end_time": "2021-03-31T13:05:38.533390",
     "exception": false,
     "start_time": "2021-03-31T13:05:37.154546",
     "status": "completed"
    },
    "tags": []
   },
   "outputs": [],
   "source": [
    "\n",
    "# Intialize the TFLite converter to load the SavedModel\n",
    "# YOUR CODE HERE\n",
    "converter = tf.lite.TFLiteConverter.from_saved_model(RPS_SAVED_MODEL)\n",
    "\n",
    "# Set the optimization strategy for 'size' in the converter \n",
    "# YOUR CODE HERE\n",
    "converter.optimizations = [tf.lite.Optimize.DEFAULT]\n",
    "\n",
    "# Use the tool to finally convert the model\n",
    "# YOUR CODE HERE\n",
    "tflite_model = converter.convert()"
   ]
  },
  {
   "cell_type": "code",
   "execution_count": 42,
   "metadata": {
    "execution": {
     "iopub.execute_input": "2021-03-31T13:05:38.670188Z",
     "iopub.status.busy": "2021-03-31T13:05:38.669301Z",
     "iopub.status.idle": "2021-03-31T13:05:38.683406Z",
     "shell.execute_reply": "2021-03-31T13:05:38.684078Z"
    },
    "papermill": {
     "duration": 0.094091,
     "end_time": "2021-03-31T13:05:38.684326",
     "exception": false,
     "start_time": "2021-03-31T13:05:38.590235",
     "status": "completed"
    },
    "tags": []
   },
   "outputs": [],
   "source": [
    "tflite_model_file = 'latentnet_25epochs_83acc.tflite'\n",
    "\n",
    "with open(tflite_model_file, \"wb\") as f:\n",
    "    f.write(tflite_model)"
   ]
  }
 ],
 "metadata": {
  "kernelspec": {
   "display_name": "Python 3",
   "language": "python",
   "name": "python3"
  },
  "language_info": {
   "codemirror_mode": {
    "name": "ipython",
    "version": 3
   },
   "file_extension": ".py",
   "mimetype": "text/x-python",
   "name": "python",
   "nbconvert_exporter": "python",
   "pygments_lexer": "ipython3",
   "version": "3.7.9"
  },
  "papermill": {
   "default_parameters": {},
   "duration": 121.829598,
   "end_time": "2021-03-31T13:05:41.794177",
   "environment_variables": {},
   "exception": null,
   "input_path": "__notebook__.ipynb",
   "output_path": "__notebook__.ipynb",
   "parameters": {},
   "start_time": "2021-03-31T13:03:39.964579",
   "version": "2.2.2"
  }
 },
 "nbformat": 4,
 "nbformat_minor": 4
}
