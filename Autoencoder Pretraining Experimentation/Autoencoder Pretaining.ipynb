{
 "cells": [
  {
   "cell_type": "code",
   "execution_count": 1,
   "id": "reserved-channel",
   "metadata": {
    "execution": {
     "iopub.execute_input": "2021-04-19T01:32:23.670680Z",
     "iopub.status.busy": "2021-04-19T01:32:23.669254Z",
     "iopub.status.idle": "2021-04-19T01:32:33.588845Z",
     "shell.execute_reply": "2021-04-19T01:32:33.589240Z"
    },
    "papermill": {
     "duration": 9.944369,
     "end_time": "2021-04-19T01:32:33.589502",
     "exception": false,
     "start_time": "2021-04-19T01:32:23.645133",
     "status": "completed"
    },
    "tags": []
   },
   "outputs": [
    {
     "name": "stdout",
     "output_type": "stream",
     "text": [
      "Collecting mitdeeplearning\r\n",
      "  Downloading mitdeeplearning-0.2.0.tar.gz (2.1 MB)\r\n",
      "\u001b[K     |████████████████████████████████| 2.1 MB 2.9 MB/s \r\n",
      "\u001b[?25hRequirement already satisfied: numpy in /opt/conda/lib/python3.7/site-packages (from mitdeeplearning) (1.19.5)\r\n",
      "Requirement already satisfied: regex in /opt/conda/lib/python3.7/site-packages (from mitdeeplearning) (2020.11.13)\r\n",
      "Requirement already satisfied: tqdm in /opt/conda/lib/python3.7/site-packages (from mitdeeplearning) (4.56.2)\r\n",
      "Requirement already satisfied: gym in /opt/conda/lib/python3.7/site-packages (from mitdeeplearning) (0.18.0)\r\n",
      "Requirement already satisfied: pyglet<=1.5.0,>=1.4.0 in /opt/conda/lib/python3.7/site-packages (from gym->mitdeeplearning) (1.5.0)\r\n",
      "Requirement already satisfied: Pillow<=7.2.0 in /opt/conda/lib/python3.7/site-packages (from gym->mitdeeplearning) (7.2.0)\r\n",
      "Requirement already satisfied: cloudpickle<1.7.0,>=1.2.0 in /opt/conda/lib/python3.7/site-packages (from gym->mitdeeplearning) (1.6.0)\r\n",
      "Requirement already satisfied: scipy in /opt/conda/lib/python3.7/site-packages (from gym->mitdeeplearning) (1.5.4)\r\n",
      "Requirement already satisfied: future in /opt/conda/lib/python3.7/site-packages (from pyglet<=1.5.0,>=1.4.0->gym->mitdeeplearning) (0.18.2)\r\n",
      "Building wheels for collected packages: mitdeeplearning\r\n",
      "  Building wheel for mitdeeplearning (setup.py) ... \u001b[?25l-\b \b\\\b \b|\b \bdone\r\n",
      "\u001b[?25h  Created wheel for mitdeeplearning: filename=mitdeeplearning-0.2.0-py3-none-any.whl size=2115443 sha256=487ab135fb6e21cb6ebfc8bc964d118d425e71382669e2d239e47ad09627e3f6\r\n",
      "  Stored in directory: /root/.cache/pip/wheels/9a/b9/4f/99b7c8c5c75355550b83e1fcfc02956fb40c35eb01e2262877\r\n",
      "Successfully built mitdeeplearning\r\n",
      "Installing collected packages: mitdeeplearning\r\n",
      "Successfully installed mitdeeplearning-0.2.0\r\n",
      "Note: you may need to restart the kernel to use updated packages.\n"
     ]
    }
   ],
   "source": [
    "pip install mitdeeplearning"
   ]
  },
  {
   "cell_type": "code",
   "execution_count": 2,
   "id": "bored-revelation",
   "metadata": {
    "_cell_guid": "3c05ef44-82d0-4cde-b40a-c2b75cfa8a87",
    "_uuid": "75535264-e181-4495-b9ea-80408a946318",
    "execution": {
     "iopub.execute_input": "2021-04-19T01:32:33.643359Z",
     "iopub.status.busy": "2021-04-19T01:32:33.642601Z",
     "iopub.status.idle": "2021-04-19T01:32:39.360983Z",
     "shell.execute_reply": "2021-04-19T01:32:39.360376Z"
    },
    "papermill": {
     "duration": 5.746127,
     "end_time": "2021-04-19T01:32:39.361115",
     "exception": false,
     "start_time": "2021-04-19T01:32:33.614988",
     "status": "completed"
    },
    "tags": []
   },
   "outputs": [],
   "source": [
    "import mitdeeplearning as mdl"
   ]
  },
  {
   "cell_type": "code",
   "execution_count": 3,
   "id": "advance-southeast",
   "metadata": {
    "_cell_guid": "acb09328-c34e-4057-9dcf-6c6e970a17b4",
    "_uuid": "0dbc42e7-994c-408f-97c7-3df007ee6307",
    "execution": {
     "iopub.execute_input": "2021-04-19T01:32:39.420839Z",
     "iopub.status.busy": "2021-04-19T01:32:39.419037Z",
     "iopub.status.idle": "2021-04-19T01:32:39.421466Z",
     "shell.execute_reply": "2021-04-19T01:32:39.421883Z"
    },
    "papermill": {
     "duration": 0.035785,
     "end_time": "2021-04-19T01:32:39.422015",
     "exception": false,
     "start_time": "2021-04-19T01:32:39.386230",
     "status": "completed"
    },
    "tags": []
   },
   "outputs": [],
   "source": [
    "import h5py\n",
    "import numpy as np\n",
    "import tensorflow as tf\n",
    "import matplotlib.pyplot as plt\n",
    "from tqdm import tqdm\n",
    "from tensorflow.keras import layers as L\n",
    "import tensorflow.keras.preprocessing.image as imgPrep\n",
    "import os\n",
    "import pandas as pd\n",
    "from tensorflow.keras.utils import plot_model\n",
    "from tensorflow.keras import backend as K\n",
    "\n",
    "###Constant###\n",
    "EPOCHS = 50\n",
    "DCNN_EPOCHS = 25\n",
    "SMOOTHING_FAC = 0"
   ]
  },
  {
   "cell_type": "markdown",
   "id": "eight-principal",
   "metadata": {
    "papermill": {
     "duration": 0.025388,
     "end_time": "2021-04-19T01:32:39.471708",
     "exception": false,
     "start_time": "2021-04-19T01:32:39.446320",
     "status": "completed"
    },
    "tags": []
   },
   "source": [
    "# Begin Designing Autoencoder"
   ]
  },
  {
   "cell_type": "code",
   "execution_count": 4,
   "id": "painful-layout",
   "metadata": {
    "execution": {
     "iopub.execute_input": "2021-04-19T01:32:39.527466Z",
     "iopub.status.busy": "2021-04-19T01:32:39.526908Z",
     "iopub.status.idle": "2021-04-19T01:32:39.530292Z",
     "shell.execute_reply": "2021-04-19T01:32:39.529792Z"
    },
    "papermill": {
     "duration": 0.033945,
     "end_time": "2021-04-19T01:32:39.530405",
     "exception": false,
     "start_time": "2021-04-19T01:32:39.496460",
     "status": "completed"
    },
    "tags": []
   },
   "outputs": [],
   "source": [
    "def get_data():\n",
    "    data_gen = imgPrep.ImageDataGenerator(rescale=1./255, validation_split=0.2)\n",
    "    train_generator = data_gen.flow_from_directory(r'../input/cgan-isic-dataset/FullTrainingData',\n",
    "                                                  target_size=(256, 256),\n",
    "                                                  batch_size=16,\n",
    "                                                  class_mode='input',\n",
    "                                                  subset='training',\n",
    "                                                  shuffle=True)\n",
    "    valid_generator = data_gen.flow_from_directory(r'../input/cgan-isic-dataset/FullTrainingData',\n",
    "                                                  target_size=(256, 256),\n",
    "                                                  batch_size=1,\n",
    "                                                  class_mode='input',\n",
    "                                                  subset='validation',\n",
    "                                                  shuffle=True)\n",
    "    return train_generator, valid_generator"
   ]
  },
  {
   "cell_type": "code",
   "execution_count": 5,
   "id": "fourth-compromise",
   "metadata": {
    "execution": {
     "iopub.execute_input": "2021-04-19T01:32:39.604493Z",
     "iopub.status.busy": "2021-04-19T01:32:39.602572Z",
     "iopub.status.idle": "2021-04-19T01:32:39.605186Z",
     "shell.execute_reply": "2021-04-19T01:32:39.605686Z"
    },
    "papermill": {
     "duration": 0.048783,
     "end_time": "2021-04-19T01:32:39.605827",
     "exception": false,
     "start_time": "2021-04-19T01:32:39.557044",
     "status": "completed"
    },
    "tags": []
   },
   "outputs": [],
   "source": [
    "n_filters = 12\n",
    "class Sampling(tf.keras.layers.Layer):\n",
    "    def call(self, inputs):\n",
    "        mean, log_var = inputs\n",
    "        return K.random_normal(tf.shape(log_var)) * K.exp(log_var / 2) + mean\n",
    "    \n",
    "def create_train_autoencoder(epochs=3):\n",
    "    train_generator, valid_generator = get_data()\n",
    "    latent_dims = 100\n",
    "    inputs = L.Input(shape=[256, 256, 3])\n",
    "    conv1 = L.Conv2D(filters=1*n_filters, kernel_size=5, \n",
    "                       strides=2, padding='same', activation='relu', name='conv1')(inputs)\n",
    "    batch1 = L.BatchNormalization(name='batch1')(conv1)\n",
    "\n",
    "    conv2 = L.Conv2D(filters=2*n_filters, kernel_size=5, \n",
    "                       strides=2, padding='same', activation='relu', name='conv2')(batch1)\n",
    "    batch2 = L.BatchNormalization(name='batch2')(conv2)\n",
    "\n",
    "    conv3 = L.Conv2D(filters=4*n_filters, kernel_size=5, \n",
    "                       strides=2, padding='same', activation='relu', name='conv3')(batch2)\n",
    "    batch3 = L.BatchNormalization(name='batch3')(conv3)\n",
    "\n",
    "    conv4 = L.Conv2D(filters=6*n_filters, kernel_size=5, \n",
    "                       strides=2, padding='same', activation='relu', name='conv4')(batch3)\n",
    "    batch4 = L.BatchNormalization(name='batch4')(conv4)\n",
    "\n",
    "    conv5 = L.Conv2D(filters=8*n_filters, kernel_size=5, \n",
    "                       strides=2, padding='same', activation='relu', name='conv5')(batch4)\n",
    "    batch5 = L.BatchNormalization(name='batch5')(conv5)\n",
    "\n",
    "    z = L.Flatten()(batch5)\n",
    "    z = L.Dense(512)(z)\n",
    "    codings = L.Dense(latent_dims)(z)\n",
    "    # codings_mean = L.Dense(latent_dims)(z)\n",
    "    # codings_log_var = L.Dense(latent_dims)(z)\n",
    "    # codings = Sampling()([codings_mean, codings_log_var])\n",
    "    encoder = tf.keras.models.Model(inputs=[inputs], \n",
    "                                    outputs=[codings])\n",
    "    decoder_inputs = L.Input(shape=[latent_dims])\n",
    "    x = L.Dense(units=8*8*8*n_filters, activation='relu')(decoder_inputs)\n",
    "    x = L.Reshape(target_shape=(8, 8, 8*n_filters))(x)\n",
    "    x = L.Conv2DTranspose(filters=6*n_filters, kernel_size=5,  \n",
    "                          strides=2, padding='same', activation='relu')(x)\n",
    "\n",
    "    x = L.Conv2DTranspose(filters=4*n_filters, kernel_size=5,  \n",
    "                          strides=2, padding='same', activation='relu')(x)\n",
    "    x = L.Conv2DTranspose(filters=2*n_filters, kernel_size=5,  \n",
    "                          strides=2, padding='same', activation='relu')(x)\n",
    "    x = L.Conv2DTranspose(filters=1*n_filters, kernel_size=5,  \n",
    "                          strides=2, padding='same', activation='relu')(x)\n",
    "    outputs = L.Conv2DTranspose(filters=3, kernel_size=5,  \n",
    "                          strides=2, padding='same', activation='relu')(x)\n",
    "    decoder = tf.keras.models.Model(inputs=[decoder_inputs], outputs=[outputs])\n",
    "    codings = encoder(inputs)\n",
    "    recons = decoder(codings)\n",
    "    VAE = tf.keras.models.Model(inputs=[inputs], outputs=[recons])\n",
    "\n",
    "\n",
    "    learning_rate = 5e-4\n",
    "    optimizer = tf.keras.optimizers.Adam(learning_rate)\n",
    "    VAE.compile(loss='mse', optimizer=optimizer)\n",
    "    VAE.summary()\n",
    "    TRAIN_STEPS = train_generator.n//train_generator.batch_size\n",
    "    VAL_STEPS = valid_generator.n//valid_generator.batch_size\n",
    "    VAE.fit(train_generator, epochs=epochs, \n",
    "            validation_data=valid_generator, \n",
    "            steps_per_epoch=TRAIN_STEPS,\n",
    "           validation_steps=VAL_STEPS)\n",
    "    return inputs, batch5"
   ]
  },
  {
   "cell_type": "code",
   "execution_count": 6,
   "id": "artificial-edward",
   "metadata": {
    "execution": {
     "iopub.execute_input": "2021-04-19T01:32:39.662920Z",
     "iopub.status.busy": "2021-04-19T01:32:39.662336Z",
     "iopub.status.idle": "2021-04-19T01:39:57.651165Z",
     "shell.execute_reply": "2021-04-19T01:39:57.651945Z"
    },
    "papermill": {
     "duration": 438.019776,
     "end_time": "2021-04-19T01:39:57.652152",
     "exception": false,
     "start_time": "2021-04-19T01:32:39.632376",
     "status": "completed"
    },
    "tags": []
   },
   "outputs": [
    {
     "name": "stdout",
     "output_type": "stream",
     "text": [
      "Found 26501 images belonging to 1 classes.\n",
      "Found 6625 images belonging to 1 classes.\n",
      "Model: \"model_2\"\n",
      "_________________________________________________________________\n",
      "Layer (type)                 Output Shape              Param #   \n",
      "=================================================================\n",
      "input_1 (InputLayer)         [(None, 256, 256, 3)]     0         \n",
      "_________________________________________________________________\n",
      "model (Functional)           (None, 100)               3494900   \n",
      "_________________________________________________________________\n",
      "model_1 (Functional)         (None, 256, 256, 3)       916803    \n",
      "=================================================================\n",
      "Total params: 4,411,703\n",
      "Trainable params: 4,411,199\n",
      "Non-trainable params: 504\n",
      "_________________________________________________________________\n",
      "1656/1656 [==============================] - 379s 226ms/step - loss: 0.0391 - val_loss: 0.0055\n"
     ]
    }
   ],
   "source": [
    "inputs_stdrd, batch5_stdrd = create_train_autoencoder(epochs=1)"
   ]
  },
  {
   "cell_type": "markdown",
   "id": "graphic-scientist",
   "metadata": {
    "papermill": {
     "duration": 0.446136,
     "end_time": "2021-04-19T01:39:58.781667",
     "exception": false,
     "start_time": "2021-04-19T01:39:58.335531",
     "status": "completed"
    },
    "tags": []
   },
   "source": [
    "### Create New Standard Model"
   ]
  },
  {
   "cell_type": "code",
   "execution_count": 7,
   "id": "quick-belarus",
   "metadata": {
    "execution": {
     "iopub.execute_input": "2021-04-19T01:39:59.682349Z",
     "iopub.status.busy": "2021-04-19T01:39:59.681587Z",
     "iopub.status.idle": "2021-04-19T01:39:59.684215Z",
     "shell.execute_reply": "2021-04-19T01:39:59.683788Z"
    },
    "papermill": {
     "duration": 0.454128,
     "end_time": "2021-04-19T01:39:59.684343",
     "exception": false,
     "start_time": "2021-04-19T01:39:59.230215",
     "status": "completed"
    },
    "tags": []
   },
   "outputs": [],
   "source": [
    "def baseline_pretrained(n_outputs=1):\n",
    "    flat = L.Flatten()(batch5_stdrd)\n",
    "    y = L.Dense(512)(flat)\n",
    "    y = L.Dense(n_outputs, activation=None)(y)\n",
    "    return tf.keras.models.Model(inputs=[inputs_stdrd], outputs=[y])"
   ]
  },
  {
   "cell_type": "code",
   "execution_count": 8,
   "id": "boolean-jewel",
   "metadata": {
    "execution": {
     "iopub.execute_input": "2021-04-19T01:40:00.624612Z",
     "iopub.status.busy": "2021-04-19T01:40:00.623729Z",
     "iopub.status.idle": "2021-04-19T01:40:00.650422Z",
     "shell.execute_reply": "2021-04-19T01:40:00.650977Z"
    },
    "papermill": {
     "duration": 0.482057,
     "end_time": "2021-04-19T01:40:00.651123",
     "exception": false,
     "start_time": "2021-04-19T01:40:00.169066",
     "status": "completed"
    },
    "tags": []
   },
   "outputs": [
    {
     "name": "stdout",
     "output_type": "stream",
     "text": [
      "Model: \"model_3\"\n",
      "_________________________________________________________________\n",
      "Layer (type)                 Output Shape              Param #   \n",
      "=================================================================\n",
      "input_1 (InputLayer)         [(None, 256, 256, 3)]     0         \n",
      "_________________________________________________________________\n",
      "conv1 (Conv2D)               (None, 128, 128, 12)      912       \n",
      "_________________________________________________________________\n",
      "batch1 (BatchNormalization)  (None, 128, 128, 12)      48        \n",
      "_________________________________________________________________\n",
      "conv2 (Conv2D)               (None, 64, 64, 24)        7224      \n",
      "_________________________________________________________________\n",
      "batch2 (BatchNormalization)  (None, 64, 64, 24)        96        \n",
      "_________________________________________________________________\n",
      "conv3 (Conv2D)               (None, 32, 32, 48)        28848     \n",
      "_________________________________________________________________\n",
      "batch3 (BatchNormalization)  (None, 32, 32, 48)        192       \n",
      "_________________________________________________________________\n",
      "conv4 (Conv2D)               (None, 16, 16, 72)        86472     \n",
      "_________________________________________________________________\n",
      "batch4 (BatchNormalization)  (None, 16, 16, 72)        288       \n",
      "_________________________________________________________________\n",
      "conv5 (Conv2D)               (None, 8, 8, 96)          172896    \n",
      "_________________________________________________________________\n",
      "batch5 (BatchNormalization)  (None, 8, 8, 96)          384       \n",
      "_________________________________________________________________\n",
      "flatten_1 (Flatten)          (None, 6144)              0         \n",
      "_________________________________________________________________\n",
      "dense_3 (Dense)              (None, 512)               3146240   \n",
      "_________________________________________________________________\n",
      "dense_4 (Dense)              (None, 1)                 513       \n",
      "=================================================================\n",
      "Total params: 3,444,113\n",
      "Trainable params: 3,443,609\n",
      "Non-trainable params: 504\n",
      "_________________________________________________________________\n"
     ]
    }
   ],
   "source": [
    "model = baseline_pretrained()\n",
    "model.summary()"
   ]
  },
  {
   "cell_type": "code",
   "execution_count": 9,
   "id": "affected-regression",
   "metadata": {
    "_cell_guid": "62031a3a-0dee-4a90-a819-f009e023391b",
    "_uuid": "00ee325d-1242-4426-b634-4479804c562c",
    "execution": {
     "iopub.execute_input": "2021-04-19T01:40:09.858585Z",
     "iopub.status.busy": "2021-04-19T01:40:09.858004Z",
     "iopub.status.idle": "2021-04-19T01:40:09.862560Z",
     "shell.execute_reply": "2021-04-19T01:40:09.862133Z"
    },
    "papermill": {
     "duration": 8.763087,
     "end_time": "2021-04-19T01:40:09.862700",
     "exception": false,
     "start_time": "2021-04-19T01:40:01.099613",
     "status": "completed"
    },
    "tags": []
   },
   "outputs": [],
   "source": [
    "data_path = r'../input/melanoma-h5-dataset/short_data.h5'\n",
    "cache = h5py.File(data_path, 'r')\n",
    "images = cache['images'][:]"
   ]
  },
  {
   "cell_type": "code",
   "execution_count": 10,
   "id": "acting-state",
   "metadata": {
    "_cell_guid": "3f458bfd-27f5-43c9-aaae-97b0dccc68c9",
    "_uuid": "0be85af5-3e7f-4ac1-b75b-a44e8d00cc04",
    "execution": {
     "iopub.execute_input": "2021-04-19T01:40:10.785877Z",
     "iopub.status.busy": "2021-04-19T01:40:10.785284Z",
     "iopub.status.idle": "2021-04-19T01:40:10.956111Z",
     "shell.execute_reply": "2021-04-19T01:40:10.955561Z"
    },
    "papermill": {
     "duration": 0.641507,
     "end_time": "2021-04-19T01:40:10.956228",
     "exception": false,
     "start_time": "2021-04-19T01:40:10.314721",
     "status": "completed"
    },
    "tags": []
   },
   "outputs": [
    {
     "data": {
      "text/plain": [
       "<matplotlib.image.AxesImage at 0x7f3000550890>"
      ]
     },
     "execution_count": 10,
     "metadata": {},
     "output_type": "execute_result"
    },
    {
     "data": {
      "image/png": "[encoded data removed]",
      "text/plain": [
       "<Figure size 432x288 with 1 Axes>"
      ]
     },
     "metadata": {
      "needs_background": "light"
     },
     "output_type": "display_data"
    }
   ],
   "source": [
    "plt.imshow(images[0])"
   ]
  },
  {
   "cell_type": "code",
   "execution_count": 11,
   "id": "opponent-flood",
   "metadata": {
    "_cell_guid": "0aa32633-699f-4034-9d59-73d667d5e5ef",
    "_uuid": "e57dd54e-952b-467c-957d-ec7f9d6abf78",
    "execution": {
     "iopub.execute_input": "2021-04-19T01:40:11.864230Z",
     "iopub.status.busy": "2021-04-19T01:40:11.863429Z",
     "iopub.status.idle": "2021-04-19T01:40:11.866301Z",
     "shell.execute_reply": "2021-04-19T01:40:11.865836Z"
    },
    "papermill": {
     "duration": 0.456463,
     "end_time": "2021-04-19T01:40:11.866424",
     "exception": false,
     "start_time": "2021-04-19T01:40:11.409961",
     "status": "completed"
    },
    "tags": []
   },
   "outputs": [],
   "source": [
    "labels = cache['labels'][:].astype(np.float32)\n",
    "labels = labels.reshape(-1, 1)"
   ]
  },
  {
   "cell_type": "code",
   "execution_count": 12,
   "id": "negative-encoding",
   "metadata": {
    "_cell_guid": "d71df9ab-c484-41e2-86be-229495897a19",
    "_uuid": "d093d7fb-9f9f-4efb-acce-f2e7b1e1aec3",
    "execution": {
     "iopub.execute_input": "2021-04-19T01:40:12.771993Z",
     "iopub.status.busy": "2021-04-19T01:40:12.771312Z",
     "iopub.status.idle": "2021-04-19T01:40:12.774662Z",
     "shell.execute_reply": "2021-04-19T01:40:12.775040Z"
    },
    "papermill": {
     "duration": 0.457322,
     "end_time": "2021-04-19T01:40:12.775175",
     "exception": false,
     "start_time": "2021-04-19T01:40:12.317853",
     "status": "completed"
    },
    "tags": []
   },
   "outputs": [],
   "source": [
    "number_of_training_examples = images.shape[0]\n",
    "image_dims = images.shape\n",
    "n_train_samples = image_dims[0]\n",
    "train_inds = np.random.permutation(np.arange(n_train_samples))\n",
    "pos_train_inds = train_inds[labels[train_inds, 0] == 1.0 ]\n",
    "neg_train_inds = train_inds[labels[train_inds, 0] != 1.0 ]"
   ]
  },
  {
   "cell_type": "code",
   "execution_count": 13,
   "id": "diverse-cancellation",
   "metadata": {
    "_cell_guid": "cd343493-9a4b-4e60-b290-34c8539a6962",
    "_uuid": "dba1dd7a-344d-4549-a0ab-038319797eba",
    "execution": {
     "iopub.execute_input": "2021-04-19T01:40:13.680038Z",
     "iopub.status.busy": "2021-04-19T01:40:13.679353Z",
     "iopub.status.idle": "2021-04-19T01:40:13.683138Z",
     "shell.execute_reply": "2021-04-19T01:40:13.682735Z"
    },
    "papermill": {
     "duration": 0.459058,
     "end_time": "2021-04-19T01:40:13.683249",
     "exception": false,
     "start_time": "2021-04-19T01:40:13.224191",
     "status": "completed"
    },
    "tags": []
   },
   "outputs": [],
   "source": [
    "def get_batch(n, only_faces=False, p_pos=None, p_neg=None, return_inds=False):\n",
    "    if only_faces:\n",
    "            selected_inds = np.random.choice(pos_train_inds, size=n, replace=False, p=p_pos)\n",
    "    else:\n",
    "        selected_pos_inds = np.random.choice(pos_train_inds, size=n//2, replace=False, p=p_pos)\n",
    "        selected_neg_inds = np.random.choice(neg_train_inds, size=n//2, replace=False, p=p_neg)\n",
    "        selected_inds = np.concatenate((selected_pos_inds, selected_neg_inds))\n",
    "    sorted_inds = np.sort(selected_inds)\n",
    "    train_img = (images[sorted_inds,:,:,::]).astype(np.float32)\n",
    "    train_label = labels[sorted_inds,...]\n",
    "    return (train_img, train_label, sorted_inds) if return_inds else (train_img, train_label)"
   ]
  },
  {
   "cell_type": "code",
   "execution_count": 14,
   "id": "meaning-occurrence",
   "metadata": {
    "execution": {
     "iopub.execute_input": "2021-04-19T01:40:14.594893Z",
     "iopub.status.busy": "2021-04-19T01:40:14.594366Z",
     "iopub.status.idle": "2021-04-19T01:40:54.120583Z",
     "shell.execute_reply": "2021-04-19T01:40:54.119809Z"
    },
    "papermill": {
     "duration": 39.985677,
     "end_time": "2021-04-19T01:40:54.120779",
     "exception": false,
     "start_time": "2021-04-19T01:40:14.135102",
     "status": "completed"
    },
    "tags": []
   },
   "outputs": [
    {
     "data": {
      "image/png": "[encoded data removed]",
      "text/plain": [
       "<Figure size 432x288 with 1 Axes>"
      ]
     },
     "metadata": {},
     "output_type": "display_data"
    },
    {
     "name": "stderr",
     "output_type": "stream",
     "text": [
      "100%|██████████| 36/36 [00:01<00:00, 21.50it/s]\n"
     ]
    },
    {
     "data": {
      "image/png": "[encoded data removed]",
      "text/plain": [
       "<Figure size 432x288 with 1 Axes>"
      ]
     },
     "metadata": {
      "needs_background": "light"
     },
     "output_type": "display_data"
    }
   ],
   "source": [
    "batch_size = 32\n",
    "num_epochs = DCNN_EPOCHS\n",
    "learning_rate = 5e-4\n",
    "\n",
    "optimizer = tf.keras.optimizers.Adam(learning_rate) # define our optimizer\n",
    "loss_history = mdl.util.LossHistory(smoothing_factor=0.99) # to record loss evolution\n",
    "plotter = mdl.util.PeriodicPlotter(sec=2, scale='semilogy')\n",
    "if hasattr(tqdm, '_instances'): tqdm._instances.clear() # clear if it exists\n",
    "\n",
    "    \n",
    "@tf.function\n",
    "def standard_train_step(x, y):\n",
    "    with tf.GradientTape() as tape:\n",
    "        # feed the images into the model\n",
    "        logits = model(x) \n",
    "        \n",
    "        # Compute the loss\n",
    "        loss = tf.nn.sigmoid_cross_entropy_with_logits(labels=y, logits=logits)\n",
    "\n",
    "  # Backpropagation\n",
    "    grads = tape.gradient(loss, model.trainable_variables)\n",
    "    optimizer.apply_gradients(zip(grads, model.trainable_variables))\n",
    "    return loss\n",
    "\n",
    "# The training loop!\n",
    "for epoch in range(num_epochs):\n",
    "    for idx in tqdm(range(n_train_samples//batch_size)):\n",
    "        # Grab a batch of training data and propagate through the network\n",
    "        x, y = get_batch(batch_size)\n",
    "        loss = standard_train_step(x, y)\n",
    "\n",
    "        # Record the loss and plot the evolution of the loss as a function of training\n",
    "        loss_history.append(loss.numpy().mean())\n",
    "        plotter.plot(loss_history.get())"
   ]
  },
  {
   "cell_type": "code",
   "execution_count": 15,
   "id": "atomic-furniture",
   "metadata": {
    "execution": {
     "iopub.execute_input": "2021-04-19T01:40:55.268490Z",
     "iopub.status.busy": "2021-04-19T01:40:55.267762Z",
     "iopub.status.idle": "2021-04-19T01:44:38.456582Z",
     "shell.execute_reply": "2021-04-19T01:44:38.457218Z"
    },
    "papermill": {
     "duration": 223.70852,
     "end_time": "2021-04-19T01:44:38.457425",
     "exception": false,
     "start_time": "2021-04-19T01:40:54.748905",
     "status": "completed"
    },
    "tags": []
   },
   "outputs": [
    {
     "name": "stdout",
     "output_type": "stream",
     "text": [
      "Found 26501 images belonging to 1 classes.\n",
      "Found 6625 images belonging to 1 classes.\n",
      "Model: \"model_6\"\n",
      "_________________________________________________________________\n",
      "Layer (type)                 Output Shape              Param #   \n",
      "=================================================================\n",
      "input_3 (InputLayer)         [(None, 256, 256, 3)]     0         \n",
      "_________________________________________________________________\n",
      "model_4 (Functional)         (None, 100)               3494900   \n",
      "_________________________________________________________________\n",
      "model_5 (Functional)         (None, 256, 256, 3)       916803    \n",
      "=================================================================\n",
      "Total params: 4,411,703\n",
      "Trainable params: 4,411,199\n",
      "Non-trainable params: 504\n",
      "_________________________________________________________________\n",
      "1656/1656 [==============================] - 221s 133ms/step - loss: 0.0391 - val_loss: 0.0045\n"
     ]
    }
   ],
   "source": [
    "inputs_latent, batch5_latent = create_train_autoencoder(epochs=1)"
   ]
  },
  {
   "cell_type": "code",
   "execution_count": 16,
   "id": "exempt-drive",
   "metadata": {
    "execution": {
     "iopub.execute_input": "2021-04-19T01:44:40.506543Z",
     "iopub.status.busy": "2021-04-19T01:44:40.505717Z",
     "iopub.status.idle": "2021-04-19T01:44:40.508297Z",
     "shell.execute_reply": "2021-04-19T01:44:40.507856Z"
    },
    "papermill": {
     "duration": 0.88198,
     "end_time": "2021-04-19T01:44:40.508404",
     "exception": false,
     "start_time": "2021-04-19T01:44:39.626424",
     "status": "completed"
    },
    "tags": []
   },
   "outputs": [],
   "source": [
    "def new_standard_model(n_outputs):\n",
    "    flat = L.Flatten()(batch5_latent)\n",
    "    y = L.Dense(512)(flat)\n",
    "    y = L.Dense(n_outputs, activation=None)(y)\n",
    "    return tf.keras.models.Model(inputs=[inputs_latent], outputs=[y])"
   ]
  },
  {
   "cell_type": "code",
   "execution_count": 17,
   "id": "technical-original",
   "metadata": {
    "_cell_guid": "6e63f4b4-8224-421e-acd7-2c03123b2ed1",
    "_uuid": "a00eb099-76cd-43fb-b480-1531e9b0cf78",
    "execution": {
     "iopub.execute_input": "2021-04-19T01:44:42.270888Z",
     "iopub.status.busy": "2021-04-19T01:44:42.270239Z",
     "iopub.status.idle": "2021-04-19T01:44:42.274060Z",
     "shell.execute_reply": "2021-04-19T01:44:42.273658Z"
    },
    "papermill": {
     "duration": 0.88888,
     "end_time": "2021-04-19T01:44:42.274167",
     "exception": false,
     "start_time": "2021-04-19T01:44:41.385287",
     "status": "completed"
    },
    "tags": []
   },
   "outputs": [],
   "source": [
    "def vae_loss_function(x, x_recon, mu, logsigma, kl_weight=0.0005):\n",
    "\n",
    "    latent_loss = tf.reduce_sum(tf.exp(logsigma)+mu**2-1-logsigma, axis=1)*0.5\n",
    "\n",
    "\n",
    "    reconstruction_loss = tf.reduce_mean(tf.abs(x-x_recon), axis=(1, 2, 3))\n",
    "\n",
    "    vae_loss = kl_weight*latent_loss+reconstruction_loss\n",
    "\n",
    "    return vae_loss"
   ]
  },
  {
   "cell_type": "code",
   "execution_count": 18,
   "id": "vertical-lincoln",
   "metadata": {
    "_cell_guid": "a590e5db-247d-4167-b079-ae91d71342d8",
    "_uuid": "7c4dd80d-1047-4589-803e-1cc3c8d6527e",
    "execution": {
     "iopub.execute_input": "2021-04-19T01:44:44.352377Z",
     "iopub.status.busy": "2021-04-19T01:44:44.351502Z",
     "iopub.status.idle": "2021-04-19T01:44:44.353622Z",
     "shell.execute_reply": "2021-04-19T01:44:44.354014Z"
    },
    "papermill": {
     "duration": 1.165682,
     "end_time": "2021-04-19T01:44:44.354152",
     "exception": false,
     "start_time": "2021-04-19T01:44:43.188470",
     "status": "completed"
    },
    "tags": []
   },
   "outputs": [],
   "source": [
    "def sampling(z_mean, z_logsigma):\n",
    "    batch, latent_dim = z_mean.shape\n",
    "    epsilon = tf.random.normal(shape=(batch, latent_dim))\n",
    "\n",
    "    z = z_mean+tf.exp(0.5*z_logsigma)*epsilon\n",
    "    return z"
   ]
  },
  {
   "cell_type": "code",
   "execution_count": 19,
   "id": "institutional-component",
   "metadata": {
    "_cell_guid": "bf8ea012-f9e6-4955-9cde-309de77f1025",
    "_uuid": "2e44a9e2-1e62-4da6-b500-fe5604b0c64f",
    "execution": {
     "iopub.execute_input": "2021-04-19T01:44:46.151450Z",
     "iopub.status.busy": "2021-04-19T01:44:46.149634Z",
     "iopub.status.idle": "2021-04-19T01:44:46.152055Z",
     "shell.execute_reply": "2021-04-19T01:44:46.152459Z"
    },
    "papermill": {
     "duration": 0.893516,
     "end_time": "2021-04-19T01:44:46.152602",
     "exception": false,
     "start_time": "2021-04-19T01:44:45.259086",
     "status": "completed"
    },
    "tags": []
   },
   "outputs": [],
   "source": [
    "def debiasing_loss_function(x, x_pred, y, y_logit, mu, logsigma):\n",
    "\n",
    "    vae_loss = vae_loss_function(x, x_pred, mu, logsigma)\n",
    "\n",
    "\n",
    "    classification_loss = tf.nn.sigmoid_cross_entropy_with_logits(y, y_logit)\n",
    "\n",
    "\n",
    "    mel_indicator = tf.cast(tf.equal(y, 1), tf.float32)\n",
    "\n",
    "\n",
    "    total_loss = classification_loss+mel_indicator*vae_loss\n",
    "\n",
    "    return total_loss, classification_loss"
   ]
  },
  {
   "cell_type": "code",
   "execution_count": 20,
   "id": "taken-bolivia",
   "metadata": {
    "_cell_guid": "84b8f999-cb13-44b1-8117-bd4abec60365",
    "_uuid": "e415fa5c-fdf8-4d0b-b922-6bcece75cd47",
    "execution": {
     "iopub.execute_input": "2021-04-19T01:44:47.954842Z",
     "iopub.status.busy": "2021-04-19T01:44:47.954235Z",
     "iopub.status.idle": "2021-04-19T01:44:47.957859Z",
     "shell.execute_reply": "2021-04-19T01:44:47.957442Z"
    },
    "papermill": {
     "duration": 0.897607,
     "end_time": "2021-04-19T01:44:47.957985",
     "exception": false,
     "start_time": "2021-04-19T01:44:47.060378",
     "status": "completed"
    },
    "tags": []
   },
   "outputs": [],
   "source": [
    "n_filters = 12 # base number of convolutional filters, same as standard CNN\n",
    "latent_dim = 100 # number of latent variables\n",
    "\n",
    "def make_face_decoder_network():\n",
    "    # Functionally define the different layer types we will use\n",
    "\n",
    "    # Build the decoder network using the Sequential API\n",
    "    decoder = tf.keras.Sequential([\n",
    "    # Transform to pre-convolutional generation\n",
    "    L.Dense(units=8*8*8*n_filters, activation='relu'),  # 4x4 feature maps (with 6N occurances)\n",
    "    L.Reshape(target_shape=(8, 8, 8*n_filters)),\n",
    "\n",
    "    # Upscaling convolutions (inverse of encoder)\n",
    "    L.Conv2DTranspose(filters=6*n_filters, kernel_size=5,  strides=2, padding='same', activation='relu'),\n",
    "    L.Conv2DTranspose(filters=4*n_filters, kernel_size=5,  strides=2, padding='same', activation='relu'),\n",
    "    L.Conv2DTranspose(filters=2*n_filters, kernel_size=5,  strides=2, padding='same', activation='relu'),\n",
    "    L.Conv2DTranspose(filters=1*n_filters, kernel_size=5,  strides=2, padding='same', activation='relu'),\n",
    "    L.Conv2DTranspose(filters=3, kernel_size=5,  strides=2, padding='same', activation='relu'),\n",
    "    ])\n",
    "\n",
    "    return decoder"
   ]
  },
  {
   "cell_type": "code",
   "execution_count": 21,
   "id": "alpha-nation",
   "metadata": {
    "_cell_guid": "be60601c-96d9-40f7-984b-3967411448e7",
    "_uuid": "e3d0c8a0-144a-4dcc-990e-99da51564a94",
    "execution": {
     "iopub.execute_input": "2021-04-19T01:44:49.770217Z",
     "iopub.status.busy": "2021-04-19T01:44:49.769435Z",
     "iopub.status.idle": "2021-04-19T01:44:49.774059Z",
     "shell.execute_reply": "2021-04-19T01:44:49.773342Z"
    },
    "papermill": {
     "duration": 0.928985,
     "end_time": "2021-04-19T01:44:49.774183",
     "exception": false,
     "start_time": "2021-04-19T01:44:48.845198",
     "status": "completed"
    },
    "tags": []
   },
   "outputs": [],
   "source": [
    "class LatentNet(tf.keras.Model):\n",
    "  def __init__(self, latent_dim):\n",
    "    super(LatentNet, self).__init__()\n",
    "    self.latent_dim = latent_dim\n",
    "\n",
    "    # Define the number of outputs for the encoder. Recall that we have \n",
    "    # `latent_dim` latent variables, as well as a supervised output for the \n",
    "    # classification.\n",
    "    num_encoder_dims = 2*self.latent_dim + 1\n",
    "\n",
    "    self.encoder = new_standard_model(num_encoder_dims)\n",
    "    \n",
    "    self.decoder = make_face_decoder_network()\n",
    "\n",
    "  # function to feed images into encoder, encode the latent space, and output\n",
    "  #   classification probability \n",
    "  def encode(self, x):\n",
    "    # encoder output\n",
    "    encoder_output = self.encoder(x)\n",
    "\n",
    "    # classification prediction\n",
    "    y_logit = tf.expand_dims(encoder_output[:, 0], -1)\n",
    "    # latent variable distribution parameters\n",
    "    z_mean = encoder_output[:, 1:self.latent_dim+1] \n",
    "    z_logsigma = encoder_output[:, self.latent_dim+1:]\n",
    "\n",
    "    return y_logit, z_mean, z_logsigma\n",
    "\n",
    "  # VAE reparameterization: given a mean and logsigma, sample latent variables\n",
    "  def reparameterize(self, z_mean, z_logsigma):\n",
    "    z = sampling(z_mean, z_logsigma)\n",
    "    return z\n",
    "\n",
    "  # Decode the latent space and output reconstruction\n",
    "  def decode(self, z):\n",
    "    reconstruction = self.decoder(z)\n",
    "    return reconstruction\n",
    "\n",
    "  def call(self, x): \n",
    "    y_logit, z_mean, z_logsigma = self.encode(x)\n",
    "\n",
    "    z = self.reparameterize(z_mean, z_logsigma)\n",
    "\n",
    "    recon = self.decode(z)\n",
    "    return y_logit, z_mean, z_logsigma, recon\n",
    "\n",
    "  def predict(self, x):\n",
    "    y_logit, z_mean, z_logsigma = self.encode(x)\n",
    "    return y_logit\n",
    "\n"
   ]
  },
  {
   "cell_type": "code",
   "execution_count": 22,
   "id": "regulation-edinburgh",
   "metadata": {
    "_cell_guid": "6d6c0c06-8570-45f3-8139-27b7d0bc842b",
    "_uuid": "6e9a4e90-e43b-4163-8269-cae8747ee07a",
    "execution": {
     "iopub.execute_input": "2021-04-19T01:44:51.560482Z",
     "iopub.status.busy": "2021-04-19T01:44:51.559268Z",
     "iopub.status.idle": "2021-04-19T01:44:51.561823Z",
     "shell.execute_reply": "2021-04-19T01:44:51.562206Z"
    },
    "papermill": {
     "duration": 0.888065,
     "end_time": "2021-04-19T01:44:51.562345",
     "exception": false,
     "start_time": "2021-04-19T01:44:50.674280",
     "status": "completed"
    },
    "tags": []
   },
   "outputs": [],
   "source": [
    "def get_latent_mu(images, latent_net, batch_size=1024):\n",
    "  N = images.shape[0]\n",
    "  mu = np.zeros((N, latent_dim))\n",
    "  for start_ind in range(0, N, batch_size):\n",
    "    end_ind = min(start_ind+batch_size, N+1)\n",
    "    batch = (images[start_ind:end_ind]).astype(np.float32)/255.\n",
    "    _, batch_mu, _ = latent_net.encode(batch)\n",
    "    mu[start_ind:end_ind] = batch_mu\n",
    "  return mu"
   ]
  },
  {
   "cell_type": "code",
   "execution_count": 23,
   "id": "graphic-assessment",
   "metadata": {
    "_cell_guid": "1394e16d-9150-4dca-8f8c-f3764b386847",
    "_uuid": "7e9d6826-79c7-4fc1-b055-35a2c42fbdff",
    "execution": {
     "iopub.execute_input": "2021-04-19T01:44:53.334520Z",
     "iopub.status.busy": "2021-04-19T01:44:53.332748Z",
     "iopub.status.idle": "2021-04-19T01:44:53.335081Z",
     "shell.execute_reply": "2021-04-19T01:44:53.335478Z"
    },
    "papermill": {
     "duration": 0.892837,
     "end_time": "2021-04-19T01:44:53.335608",
     "exception": false,
     "start_time": "2021-04-19T01:44:52.442771",
     "status": "completed"
    },
    "tags": []
   },
   "outputs": [],
   "source": [
    "'''Function that recomputes the sampling probabilities for images within a batch\n",
    "      based on how they distribute across the training data'''\n",
    "def get_training_sample_probabilities(images, latent_net, bins=10, smoothing_fac=SMOOTHING_FAC): \n",
    "    print(\"Recomputing the sampling probabilities\")\n",
    "    \n",
    "    mu = get_latent_mu(images, latent_net) # TODO\n",
    "\n",
    "    # sampling probabilities for the images\n",
    "    training_sample_p = np.zeros(mu.shape[0])\n",
    "    \n",
    "    for i in range(latent_dim):\n",
    "      \n",
    "        latent_distribution = mu[:,i]\n",
    "        hist_density, bin_edges =  np.histogram(latent_distribution, density=True, bins=bins)\n",
    "\n",
    "        bin_edges[0] = -float('inf')\n",
    "        bin_edges[-1] = float('inf')\n",
    "        \n",
    "\n",
    "        bin_idx = np.digitize(latent_distribution, bin_edges) \n",
    "        hist_smoothed_density = hist_density + smoothing_fac\n",
    "        hist_smoothed_density = hist_smoothed_density / np.sum(hist_smoothed_density)\n",
    "\n",
    "        p = 1.0/(hist_smoothed_density[bin_idx-1])\n",
    "        p = p/np.sum(p)\n",
    "        training_sample_p = np.maximum(p, training_sample_p)\n",
    "        break\n",
    "        \n",
    "    # final normalization\n",
    "    training_sample_p /= np.sum(training_sample_p)\n",
    "\n",
    "    return training_sample_p"
   ]
  },
  {
   "cell_type": "code",
   "execution_count": 24,
   "id": "undefined-thanksgiving",
   "metadata": {
    "_cell_guid": "eae42117-d03b-45d6-9ca8-b358903c0331",
    "_uuid": "b71a333a-b310-400d-ba8f-d9df87412e39",
    "execution": {
     "iopub.execute_input": "2021-04-19T01:44:55.353271Z",
     "iopub.status.busy": "2021-04-19T01:44:55.352441Z",
     "iopub.status.idle": "2021-04-19T01:44:55.355308Z",
     "shell.execute_reply": "2021-04-19T01:44:55.354874Z"
    },
    "papermill": {
     "duration": 1.13874,
     "end_time": "2021-04-19T01:44:55.355426",
     "exception": false,
     "start_time": "2021-04-19T01:44:54.216686",
     "status": "completed"
    },
    "tags": []
   },
   "outputs": [],
   "source": [
    "import IPython"
   ]
  },
  {
   "cell_type": "code",
   "execution_count": 25,
   "id": "important-seattle",
   "metadata": {
    "_cell_guid": "eaf32a4f-e962-4076-b87f-186ba409c899",
    "_uuid": "f6c91be3-1407-4d4e-bb8e-74dc6ab79651",
    "execution": {
     "iopub.execute_input": "2021-04-19T01:44:57.172971Z",
     "iopub.status.busy": "2021-04-19T01:44:57.172124Z",
     "iopub.status.idle": "2021-04-19T01:45:52.612099Z",
     "shell.execute_reply": "2021-04-19T01:45:52.611676Z"
    },
    "papermill": {
     "duration": 56.368837,
     "end_time": "2021-04-19T01:45:52.612223",
     "exception": false,
     "start_time": "2021-04-19T01:44:56.243386",
     "status": "completed"
    },
    "tags": []
   },
   "outputs": [
    {
     "name": "stdout",
     "output_type": "stream",
     "text": [
      "Starting epoch 25/25\n",
      "Recomputing the sampling probabilities\n"
     ]
    },
    {
     "name": "stderr",
     "output_type": "stream",
     "text": [
      "  0%|          | 0/36 [00:00<?, ?it/s]"
     ]
    },
    {
     "data": {
      "image/png": "[encoded data removed]",
      "text/plain": [
       "<Figure size 144x72 with 2 Axes>"
      ]
     },
     "metadata": {
      "needs_background": "light"
     },
     "output_type": "display_data"
    },
    {
     "name": "stderr",
     "output_type": "stream",
     "text": [
      "100%|██████████| 36/36 [00:01<00:00, 25.97it/s]\n"
     ]
    }
   ],
   "source": [
    "### Training the LatentNet ###\n",
    "\n",
    "# Hyperparameters\n",
    "batch_size = 32\n",
    "learning_rate = 5e-4\n",
    "latent_dim = 100\n",
    "\n",
    "\n",
    "num_epochs = 25  # EPOCHS \n",
    "\n",
    "latent_net = LatentNet(latent_dim)\n",
    "optimizer = tf.keras.optimizers.Adam(learning_rate)\n",
    "\n",
    "\n",
    "@tf.function\n",
    "def debiasing_train_step(x, y):\n",
    "\n",
    "  with tf.GradientTape() as tape:\n",
    "    y_logit, z_mean, z_logsigma, x_recon = latent_net(x)\n",
    "\n",
    "    loss, class_loss = debiasing_loss_function(x, x_recon, y, y_logit, z_mean, z_logsigma)\n",
    "\n",
    "  grads = tape.gradient(loss, latent_net.trainable_variables)\n",
    "  optimizer.apply_gradients(zip(grads, latent_net.trainable_variables))\n",
    "  return loss\n",
    "\n",
    "# get training faces from data loader\n",
    "all_mel = images[pos_train_inds]\n",
    "\n",
    "if hasattr(tqdm, '_instances'): tqdm._instances.clear() # clear if it exists\n",
    "\n",
    "# The training loop -- outer loop iterates over the number of epochs\n",
    "for i in range(num_epochs):\n",
    "\n",
    "  IPython.display.clear_output(wait=True)\n",
    "  print(\"Starting epoch {}/{}\".format(i+1, num_epochs))\n",
    "\n",
    "  # Recompute data sampling proabilities\n",
    "  '''TODO: recompute the sampling probabilities for debiasing'''\n",
    "  p_mel = get_training_sample_probabilities(all_mel, latent_net) \n",
    "  \n",
    "  # get a batch of training data and compute the training step\n",
    "  for j in tqdm(range(n_train_samples // batch_size)):\n",
    "    # load a batch of data\n",
    "    (x, y) = get_batch(batch_size, p_pos=p_mel)\n",
    "    # loss optimization\n",
    "    loss = debiasing_train_step(x, y)\n",
    "    \n",
    "    # plot the progress every 200 steps\n",
    "    if j % 500 == 0: \n",
    "      mdl.util.plot_sample(x, y, latent_net)"
   ]
  },
  {
   "cell_type": "code",
   "execution_count": 26,
   "id": "closing-sculpture",
   "metadata": {
    "_cell_guid": "b843fb11-7a1f-4b37-9ed3-1d61ee4c9d9c",
    "_uuid": "807f46ef-3a27-40cd-90b3-f3d7b99fa23c",
    "execution": {
     "iopub.execute_input": "2021-04-19T01:45:54.397011Z",
     "iopub.status.busy": "2021-04-19T01:45:54.395762Z",
     "iopub.status.idle": "2021-04-19T01:46:00.529870Z",
     "shell.execute_reply": "2021-04-19T01:46:00.530652Z"
    },
    "papermill": {
     "duration": 7.030653,
     "end_time": "2021-04-19T01:46:00.530833",
     "exception": false,
     "start_time": "2021-04-19T01:45:53.500180",
     "status": "completed"
    },
    "tags": []
   },
   "outputs": [
    {
     "name": "stdout",
     "output_type": "stream",
     "text": [
      "LatentNet accuracy on training set: 0.9050\n"
     ]
    }
   ],
   "source": [
    "(batch_x, batch_y) = get_batch(1000)\n",
    "latent_net_logits = [latent_net.predict(np.array(x.reshape(1, 256, 256, 3), dtype=np.float32)) for x in batch_x]\n",
    "latent_net_probs = tf.squeeze(tf.sigmoid(latent_net_logits))\n",
    "preds = [np.array([1.0]) if pred > 0.5 else np.array([0.0]) for pred in latent_net_probs]\n",
    "preds = np.array(preds)\n",
    "acc_standard = tf.reduce_mean(tf.cast(tf.equal(batch_y, preds), tf.float32))\n",
    "\n",
    "print(\"LatentNet accuracy on training set: {:.4f}\".format(acc_standard.numpy()))"
   ]
  },
  {
   "cell_type": "code",
   "execution_count": 27,
   "id": "minimal-terror",
   "metadata": {
    "_cell_guid": "2682d185-8c19-4ef3-8808-00f3c5f4b29b",
    "_uuid": "46ef4566-105a-4bcc-9387-048778b3ca67",
    "execution": {
     "iopub.execute_input": "2021-04-19T01:46:02.555312Z",
     "iopub.status.busy": "2021-04-19T01:46:02.554718Z",
     "iopub.status.idle": "2021-04-19T01:46:02.558244Z",
     "shell.execute_reply": "2021-04-19T01:46:02.557781Z"
    },
    "papermill": {
     "duration": 0.895016,
     "end_time": "2021-04-19T01:46:02.558355",
     "exception": false,
     "start_time": "2021-04-19T01:46:01.663339",
     "status": "completed"
    },
    "tags": []
   },
   "outputs": [],
   "source": [
    "def test(path):\n",
    "    latent_net_preds = []\n",
    "    reg_preds = []\n",
    "    for img in os.listdir(path):\n",
    "        full_path = os.path.join(path, img)\n",
    "        loaded = imgPrep.load_img(full_path, target_size=(256, 256))\n",
    "        arr = imgPrep.img_to_array(loaded)/255.0\n",
    "        pred1 = tf.sigmoid(latent_net.predict(arr.reshape(1, 256, 256, 3)))\n",
    "        pred2 = tf.sigmoid(model.predict(arr.reshape(1, 256, 256, 3)))\n",
    "        latent_net_preds.append(np.array(pred1)[0][0]); reg_preds.append(np.array(pred2)[0][0])\n",
    "    print(f'LatentNet Confidence: {sum(latent_net_preds)/len(latent_net_preds)}')\n",
    "    print(f'Standard Confidence: {sum(reg_preds)/len(reg_preds)}')\n",
    "    return latent_net_preds, reg_preds"
   ]
  },
  {
   "cell_type": "code",
   "execution_count": 28,
   "id": "hungry-string",
   "metadata": {
    "_cell_guid": "73759cca-5d96-4a84-b1c7-c1ffb2a0a14f",
    "_uuid": "de0ed568-22ec-46d6-b32f-1494dc301a7d",
    "execution": {
     "iopub.execute_input": "2021-04-19T01:46:04.363212Z",
     "iopub.status.busy": "2021-04-19T01:46:04.361288Z",
     "iopub.status.idle": "2021-04-19T01:46:04.363787Z",
     "shell.execute_reply": "2021-04-19T01:46:04.364189Z"
    },
    "papermill": {
     "duration": 0.920505,
     "end_time": "2021-04-19T01:46:04.364318",
     "exception": false,
     "start_time": "2021-04-19T01:46:03.443813",
     "status": "completed"
    },
    "tags": []
   },
   "outputs": [],
   "source": [
    "normal_hair = f'../input/melanoma-h5-dataset/---Full Validation Sets---v7/---Full Validation Sets---/Hair Density/Normal'\n",
    "mel_hair = f'../input/melanoma-h5-dataset/---Full Validation Sets---v7/---Full Validation Sets---/Hair Density/Melanoma'\n",
    "normal_type_1 = f'../input/melanoma-h5-dataset/---Full Validation Sets---v7/---Full Validation Sets---/Skin Type/Normal/Type I'\n",
    "mel_type_1 = f'../input/melanoma-h5-dataset/---Full Validation Sets---v7/---Full Validation Sets---/Skin Type/Melanoma/Type I'\n",
    "normal_type_2 = f'../input/melanoma-h5-dataset/---Full Validation Sets---v7/---Full Validation Sets---/Skin Type/Normal/Type II'\n",
    "mel_type_2 = f'../input/melanoma-h5-dataset/---Full Validation Sets---v7/---Full Validation Sets---/Skin Type/Melanoma/Type II'\n",
    "normal_type_3 = f'../input/melanoma-h5-dataset/---Full Validation Sets---v7/---Full Validation Sets---/Skin Type/Normal/Type III'\n",
    "mel_type_3 = f'../input/melanoma-h5-dataset/---Full Validation Sets---v7/---Full Validation Sets---/Skin Type/Melanoma/Type III'\n",
    "mel_paths = [mel_type_1, mel_type_2, mel_type_3]\n",
    "norm_paths = [normal_type_1, normal_type_2, normal_type_3]"
   ]
  },
  {
   "cell_type": "code",
   "execution_count": 29,
   "id": "hungarian-connecticut",
   "metadata": {
    "execution": {
     "iopub.execute_input": "2021-04-19T01:46:06.182380Z",
     "iopub.status.busy": "2021-04-19T01:46:06.181838Z",
     "iopub.status.idle": "2021-04-19T01:46:06.840134Z",
     "shell.execute_reply": "2021-04-19T01:46:06.839588Z"
    },
    "papermill": {
     "duration": 1.55551,
     "end_time": "2021-04-19T01:46:06.840257",
     "exception": false,
     "start_time": "2021-04-19T01:46:05.284747",
     "status": "completed"
    },
    "tags": []
   },
   "outputs": [],
   "source": [
    "from sklearn.metrics import roc_auc_score\n",
    "from sklearn.metrics import confusion_matrix\n",
    "def plot_confusion_matrix(cm,\n",
    "                          target_names,\n",
    "                          title='Confusion matrix',\n",
    "                          cmap=None,\n",
    "                          normalize=True):\n",
    "    \"\"\"\n",
    "    Citiation\n",
    "    ---------\n",
    "    http://scikit-learn.org/stable/auto_examples/model_selection/plot_confusion_matrix.html\n",
    "\n",
    "    \"\"\"\n",
    "    import matplotlib.pyplot as plt\n",
    "    import numpy as np\n",
    "    import itertools\n",
    "\n",
    "    accuracy = np.trace(cm) / float(np.sum(cm))\n",
    "    misclass = 1 - accuracy\n",
    "\n",
    "    if cmap is None:\n",
    "        cmap = plt.get_cmap('Blues')\n",
    "\n",
    "    plt.figure(figsize=(8, 6))\n",
    "    plt.imshow(cm, interpolation='nearest', cmap=cmap)\n",
    "    plt.title(title)\n",
    "    plt.colorbar()\n",
    "\n",
    "    if target_names is not None:\n",
    "        tick_marks = np.arange(len(target_names))\n",
    "        plt.xticks(tick_marks, target_names, rotation=45)\n",
    "        plt.yticks(tick_marks, target_names)\n",
    "\n",
    "    if normalize:\n",
    "        cm = cm.astype('float') / cm.sum(axis=1)[:, np.newaxis]\n",
    "\n",
    "\n",
    "    thresh = cm.max() / 1.5 if normalize else cm.max() / 2\n",
    "    for i, j in itertools.product(range(cm.shape[0]), range(cm.shape[1])):\n",
    "        if normalize:\n",
    "            plt.text(j, i, \"{:0.4f}\".format(cm[i, j]),\n",
    "                     horizontalalignment=\"center\",\n",
    "                     color=\"white\" if cm[i, j] > thresh else \"black\")\n",
    "        else:\n",
    "            plt.text(j, i, \"{:,}\".format(cm[i, j]),\n",
    "                     horizontalalignment=\"center\",\n",
    "                     color=\"white\" if cm[i, j] > thresh else \"black\")\n",
    "\n",
    "\n",
    "    plt.tight_layout()\n",
    "    plt.ylabel('True label')\n",
    "    plt.xlabel('Predicted label\\naccuracy={:0.4f}; misclass={:0.4f}'.format(accuracy, misclass))\n",
    "    plt.show()"
   ]
  },
  {
   "cell_type": "code",
   "execution_count": 30,
   "id": "naked-immunology",
   "metadata": {
    "execution": {
     "iopub.execute_input": "2021-04-19T01:46:08.621835Z",
     "iopub.status.busy": "2021-04-19T01:46:08.620021Z",
     "iopub.status.idle": "2021-04-19T01:46:08.622716Z",
     "shell.execute_reply": "2021-04-19T01:46:08.623194Z"
    },
    "papermill": {
     "duration": 0.902402,
     "end_time": "2021-04-19T01:46:08.623473",
     "exception": false,
     "start_time": "2021-04-19T01:46:07.721071",
     "status": "completed"
    },
    "tags": []
   },
   "outputs": [],
   "source": [
    "def get_all_accs(norm_paths, mel_paths, latent_weight=0.8, dcnn_weight=0.2):\n",
    "    total = 0\n",
    "    correct_norm = 0\n",
    "    correct_db = 0\n",
    "    correct_ens = 0\n",
    "    latent_preds = []\n",
    "    ens_preds = []\n",
    "    tru_preds = []\n",
    "    norm_preds = []\n",
    "    for path in norm_paths:\n",
    "        imgs = [os.path.join(path, img) for img in os.listdir(path)]\n",
    "        for i, img in enumerate(imgs):\n",
    "            loaded = imgPrep.load_img(img, target_size=(256, 256))\n",
    "            arr = imgPrep.img_to_array(loaded)/255.\n",
    "            pred1 = tf.sigmoid(latent_net.predict(arr.reshape(1, 256, 256, 3)))\n",
    "            pred2 = tf.sigmoid(model.predict(arr.reshape(1, 256, 256, 3)))\n",
    "            pred3 = pred1*dcnn_weight + pred2*latent_weight\n",
    "            correct_db += int(pred1 < 0.5)\n",
    "            correct_norm += int(pred2 < 0.5)\n",
    "            correct_ens += int(pred2 < 0.5)\n",
    "            norm_preds.append(np.array(pred2)[0][0])\n",
    "            latent_preds.append(np.array(pred1)[0][0])\n",
    "            ens_preds.append(np.array(pred3)[0][0])\n",
    "            tru_preds.append(0)\n",
    "#             if i == 371: break\n",
    "    for path in mel_paths:\n",
    "        imgs = [os.path.join(path, img) for img in os.listdir(path)]\n",
    "        for i, img in enumerate(imgs):\n",
    "            loaded = imgPrep.load_img(img, target_size=(256, 256))\n",
    "            arr = imgPrep.img_to_array(loaded)/255.\n",
    "            pred1 = tf.sigmoid(latent_net.predict(arr.reshape(1, 256, 256, 3)))\n",
    "            pred2 = tf.sigmoid(model.predict(arr.reshape(1, 256, 256, 3)))\n",
    "            pred3 = pred1*dcnn_weight + pred2*latent_weight\n",
    "            correct_db += int(pred1 >= 0.5)\n",
    "            correct_norm += int(pred2 >= 0.5)\n",
    "            correct_ens += int(pred3 >= 0.5)\n",
    "            norm_preds.append(np.array(pred2)[0][0])\n",
    "            latent_preds.append(np.array(pred1)[0][0])\n",
    "            ens_preds.append(np.array(pred3)[0][0])\n",
    "            tru_preds.append(1)\n",
    "            \n",
    "    db_confusion = confusion_matrix(tru_preds, [1 if pred > 0.5 else 0 for pred in latent_preds])\n",
    "    reg_confusion = confusion_matrix(tru_preds, [1 if pred > 0.5 else 0 for pred in norm_preds])\n",
    "    ens_confusion = confusion_matrix(tru_preds, [1 if pred > 0.5 else 0 for pred in ens_preds])\n",
    "    plot_confusion_matrix(cm = db_confusion, \n",
    "                          normalize = False,\n",
    "                          target_names = ['No Melanoma', 'Melanoma'],\n",
    "                          title = f\"LatentNet Confusion Matrix\")\n",
    "    plot_confusion_matrix(cm = reg_confusion, \n",
    "                          normalize = False,\n",
    "                          target_names = ['No Melanoma', 'Melanoma'],\n",
    "                          title = f\"DCNN Confusion Matrix\")\n",
    "    plot_confusion_matrix(cm = ens_confusion, \n",
    "                          normalize = False,\n",
    "                          target_names = ['No Melanoma', 'Melanoma'],\n",
    "                          title = f\"Ensemble Confusion Matrix; Latent: {latent_weight}, DCNN: {dcnn_weight}\")"
   ]
  },
  {
   "cell_type": "code",
   "execution_count": 31,
   "id": "accredited-frederick",
   "metadata": {
    "execution": {
     "iopub.execute_input": "2021-04-19T01:46:10.429166Z",
     "iopub.status.busy": "2021-04-19T01:46:10.428475Z",
     "iopub.status.idle": "2021-04-19T02:13:21.176028Z",
     "shell.execute_reply": "2021-04-19T02:13:21.174513Z"
    },
    "papermill": {
     "duration": 1631.667998,
     "end_time": "2021-04-19T02:13:21.176151",
     "exception": false,
     "start_time": "2021-04-19T01:46:09.508153",
     "status": "completed"
    },
    "tags": []
   },
   "outputs": [
    {
     "data": {
      "image/png": "[encoded data removed]",
      "text/plain": [
       "<Figure size 576x432 with 2 Axes>"
      ]
     },
     "metadata": {
      "needs_background": "light"
     },
     "output_type": "display_data"
    },
    {
     "data": {
      "image/png": "[encoded data removed]",
      "text/plain": [
       "<Figure size 576x432 with 2 Axes>"
      ]
     },
     "metadata": {
      "needs_background": "light"
     },
     "output_type": "display_data"
    },
    {
     "data": {
      "image/png": "[encoded data removed]",
      "text/plain": [
       "<Figure size 576x432 with 2 Axes>"
      ]
     },
     "metadata": {
      "needs_background": "light"
     },
     "output_type": "display_data"
    }
   ],
   "source": [
    "get_all_accs(norm_paths, mel_paths)"
   ]
  }
 ],
 "metadata": {
  "kernelspec": {
   "display_name": "Python 3",
   "language": "python",
   "name": "python3"
  },
  "language_info": {
   "codemirror_mode": {
    "name": "ipython",
    "version": 3
   },
   "file_extension": ".py",
   "mimetype": "text/x-python",
   "name": "python",
   "nbconvert_exporter": "python",
   "pygments_lexer": "ipython3",
   "version": "3.7.9"
  },
  "papermill": {
   "default_parameters": {},
   "duration": 2466.930827,
   "end_time": "2021-04-19T02:13:25.070388",
   "environment_variables": {},
   "exception": null,
   "input_path": "__notebook__.ipynb",
   "output_path": "__notebook__.ipynb",
   "parameters": {},
   "start_time": "2021-04-19T01:32:18.139561",
   "version": "2.3.2"
  }
 },
 "nbformat": 4,
 "nbformat_minor": 5
}
